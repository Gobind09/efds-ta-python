{
 "cells": [
  {
   "attachments": {},
   "cell_type": "markdown",
   "metadata": {},
   "source": [
    "# Panel Data\n",
    "\n",
    "Sometimes, data comes in such a way that many observations share certain common features. For example, several measurements can be made in the same location, under the same condition, or for the same subject. To understand the data and extract meaningful insights, we often need to aggregate these observations. This is where the groupby() function comes into play."
   ]
  },
  {
   "attachments": {},
   "cell_type": "markdown",
   "metadata": {},
   "source": [
    "## Exploring Panel Data\n",
    "\n",
    "As always, let's start by importing pandas and loading our dataset. This time our conversion to datetime will be a bit different."
   ]
  },
  {
   "cell_type": "code",
   "execution_count": 1,
   "metadata": {
    "tags": [
     "hide"
    ]
   },
   "outputs": [
    {
     "data": {
      "application/vnd.microsoft.datawrangler.viewer.v0+json": {
       "columns": [
        {
         "name": "index",
         "rawType": "int64",
         "type": "integer"
        },
        {
         "name": "GVKEY",
         "rawType": "int64",
         "type": "integer"
        },
        {
         "name": "iid",
         "rawType": "int64",
         "type": "integer"
        },
        {
         "name": "datadate",
         "rawType": "datetime64[ns]",
         "type": "datetime"
        },
        {
         "name": "tic",
         "rawType": "object",
         "type": "string"
        },
        {
         "name": "conm",
         "rawType": "object",
         "type": "string"
        },
        {
         "name": "cshtrd",
         "rawType": "int64",
         "type": "integer"
        },
        {
         "name": "prcod",
         "rawType": "float64",
         "type": "float"
        },
        {
         "name": "prcld",
         "rawType": "float64",
         "type": "float"
        },
        {
         "name": "prchd",
         "rawType": "float64",
         "type": "float"
        },
        {
         "name": "prccd",
         "rawType": "float64",
         "type": "float"
        },
        {
         "name": "exchg",
         "rawType": "int64",
         "type": "integer"
        }
       ],
       "ref": "1399c6a7-6cf2-41c4-90ca-2fe4baa0bfeb",
       "rows": [
        [
         "0",
         "1004",
         "1",
         "2023-01-03 00:00:00",
         "AIR",
         "AAR CORP",
         "260279",
         "45.09",
         "44.21",
         "45.58",
         "44.6",
         "11"
        ],
        [
         "1",
         "1004",
         "1",
         "2023-01-04 00:00:00",
         "AIR",
         "AAR CORP",
         "258372",
         "44.56",
         "44.56",
         "45.66",
         "45.24",
         "11"
        ],
        [
         "2",
         "1004",
         "1",
         "2023-01-05 00:00:00",
         "AIR",
         "AAR CORP",
         "132574",
         "44.86",
         "44.5",
         "45.04",
         "44.82",
         "11"
        ],
        [
         "3",
         "1004",
         "1",
         "2023-01-06 00:00:00",
         "AIR",
         "AAR CORP",
         "301259",
         "45.2",
         "45.2",
         "46.52",
         "46.09",
         "11"
        ],
        [
         "4",
         "1004",
         "1",
         "2023-01-09 00:00:00",
         "AIR",
         "AAR CORP",
         "372930",
         "46.84",
         "45.94",
         "47.15",
         "46.18",
         "11"
        ],
        [
         "5",
         "1004",
         "1",
         "2023-01-10 00:00:00",
         "AIR",
         "AAR CORP",
         "159745",
         "45.95",
         "45.6601",
         "46.91",
         "46.83",
         "11"
        ],
        [
         "6",
         "1004",
         "1",
         "2023-01-11 00:00:00",
         "AIR",
         "AAR CORP",
         "164807",
         "46.91",
         "46.91",
         "48.41",
         "48.4",
         "11"
        ],
        [
         "7",
         "1004",
         "1",
         "2023-01-12 00:00:00",
         "AIR",
         "AAR CORP",
         "232769",
         "48.71",
         "48.14",
         "49.5",
         "49.47",
         "11"
        ],
        [
         "8",
         "1004",
         "1",
         "2023-01-13 00:00:00",
         "AIR",
         "AAR CORP",
         "253439",
         "48.89",
         "48.71",
         "49.66",
         "49.25",
         "11"
        ],
        [
         "9",
         "1004",
         "1",
         "2023-01-17 00:00:00",
         "AIR",
         "AAR CORP",
         "264386",
         "49.15",
         "48.81",
         "49.61",
         "49.26",
         "11"
        ],
        [
         "10",
         "1004",
         "1",
         "2023-01-18 00:00:00",
         "AIR",
         "AAR CORP",
         "282601",
         "49.41",
         "48.55",
         "50.13",
         "48.55",
         "11"
        ],
        [
         "11",
         "1004",
         "1",
         "2023-01-19 00:00:00",
         "AIR",
         "AAR CORP",
         "278308",
         "48.06",
         "47.0",
         "48.435",
         "48.04",
         "11"
        ],
        [
         "12",
         "1004",
         "1",
         "2023-01-20 00:00:00",
         "AIR",
         "AAR CORP",
         "234672",
         "48.38",
         "47.65",
         "48.445",
         "48.2",
         "11"
        ],
        [
         "13",
         "1004",
         "1",
         "2023-01-23 00:00:00",
         "AIR",
         "AAR CORP",
         "216566",
         "48.12",
         "47.84",
         "48.33",
         "48.25",
         "11"
        ],
        [
         "14",
         "1004",
         "1",
         "2023-01-24 00:00:00",
         "AIR",
         "AAR CORP",
         "143014",
         "48.32",
         "47.87",
         "48.39",
         "48.15",
         "11"
        ],
        [
         "15",
         "1004",
         "1",
         "2023-01-25 00:00:00",
         "AIR",
         "AAR CORP",
         "151201",
         "47.73",
         "47.68",
         "49.49",
         "49.47",
         "11"
        ],
        [
         "16",
         "1004",
         "1",
         "2023-01-26 00:00:00",
         "AIR",
         "AAR CORP",
         "236585",
         "49.6",
         "49.265",
         "50.52",
         "50.49",
         "11"
        ],
        [
         "17",
         "1004",
         "1",
         "2023-01-27 00:00:00",
         "AIR",
         "AAR CORP",
         "192519",
         "50.46",
         "49.72",
         "50.91",
         "50.2",
         "11"
        ],
        [
         "18",
         "1004",
         "1",
         "2023-01-30 00:00:00",
         "AIR",
         "AAR CORP",
         "202262",
         "49.94",
         "49.73",
         "50.53",
         "49.91",
         "11"
        ],
        [
         "19",
         "1004",
         "1",
         "2023-01-31 00:00:00",
         "AIR",
         "AAR CORP",
         "220857",
         "50.14",
         "50.09",
         "51.44",
         "51.44",
         "11"
        ],
        [
         "20",
         "1004",
         "1",
         "2023-02-01 00:00:00",
         "AIR",
         "AAR CORP",
         "178690",
         "51.5",
         "51.05",
         "52.4",
         "52.03",
         "11"
        ],
        [
         "21",
         "1004",
         "1",
         "2023-02-02 00:00:00",
         "AIR",
         "AAR CORP",
         "235699",
         "52.13",
         "51.67",
         "52.74",
         "52.1",
         "11"
        ],
        [
         "22",
         "1004",
         "1",
         "2023-02-03 00:00:00",
         "AIR",
         "AAR CORP",
         "237153",
         "51.88",
         "51.88",
         "52.84",
         "51.94",
         "11"
        ],
        [
         "23",
         "1004",
         "1",
         "2023-02-06 00:00:00",
         "AIR",
         "AAR CORP",
         "132919",
         "51.67",
         "50.8468",
         "52.16",
         "51.49",
         "11"
        ],
        [
         "24",
         "1004",
         "1",
         "2023-02-07 00:00:00",
         "AIR",
         "AAR CORP",
         "177233",
         "51.47",
         "51.14",
         "52.4",
         "52.24",
         "11"
        ],
        [
         "25",
         "1004",
         "1",
         "2023-02-08 00:00:00",
         "AIR",
         "AAR CORP",
         "107584",
         "51.73",
         "51.59",
         "52.135",
         "51.93",
         "11"
        ],
        [
         "26",
         "1004",
         "1",
         "2023-02-09 00:00:00",
         "AIR",
         "AAR CORP",
         "122663",
         "52.24",
         "50.76",
         "52.465",
         "50.76",
         "11"
        ],
        [
         "27",
         "1004",
         "1",
         "2023-02-10 00:00:00",
         "AIR",
         "AAR CORP",
         "129785",
         "50.62",
         "50.165",
         "51.55",
         "51.41",
         "11"
        ],
        [
         "28",
         "1004",
         "1",
         "2023-02-13 00:00:00",
         "AIR",
         "AAR CORP",
         "126031",
         "51.39",
         "51.11",
         "52.36",
         "52.21",
         "11"
        ],
        [
         "29",
         "1004",
         "1",
         "2023-02-14 00:00:00",
         "AIR",
         "AAR CORP",
         "267295",
         "51.92",
         "51.62",
         "53.86",
         "53.65",
         "11"
        ],
        [
         "30",
         "1004",
         "1",
         "2023-02-15 00:00:00",
         "AIR",
         "AAR CORP",
         "339362",
         "53.46",
         "52.9201",
         "54.76",
         "54.74",
         "11"
        ],
        [
         "31",
         "1004",
         "1",
         "2023-02-16 00:00:00",
         "AIR",
         "AAR CORP",
         "174389",
         "53.88",
         "53.65",
         "54.625",
         "54.41",
         "11"
        ],
        [
         "32",
         "1004",
         "1",
         "2023-02-17 00:00:00",
         "AIR",
         "AAR CORP",
         "263935",
         "54.54",
         "53.81",
         "54.97",
         "54.42",
         "11"
        ],
        [
         "33",
         "1004",
         "1",
         "2023-02-21 00:00:00",
         "AIR",
         "AAR CORP",
         "171762",
         "54.25",
         "53.0",
         "54.33",
         "53.44",
         "11"
        ],
        [
         "34",
         "1004",
         "1",
         "2023-02-22 00:00:00",
         "AIR",
         "AAR CORP",
         "212732",
         "53.32",
         "53.23",
         "54.825",
         "53.94",
         "11"
        ],
        [
         "35",
         "1004",
         "1",
         "2023-02-23 00:00:00",
         "AIR",
         "AAR CORP",
         "199427",
         "54.08",
         "53.93",
         "55.04",
         "55.0",
         "11"
        ],
        [
         "36",
         "1004",
         "1",
         "2023-02-24 00:00:00",
         "AIR",
         "AAR CORP",
         "156838",
         "54.34",
         "53.95",
         "54.71",
         "54.71",
         "11"
        ],
        [
         "37",
         "1004",
         "1",
         "2023-02-27 00:00:00",
         "AIR",
         "AAR CORP",
         "116029",
         "55.14",
         "54.765",
         "55.5",
         "54.91",
         "11"
        ],
        [
         "38",
         "1004",
         "1",
         "2023-02-28 00:00:00",
         "AIR",
         "AAR CORP",
         "218118",
         "54.87",
         "54.08",
         "54.915",
         "54.39",
         "11"
        ],
        [
         "39",
         "1004",
         "1",
         "2023-03-01 00:00:00",
         "AIR",
         "AAR CORP",
         "139758",
         "54.3",
         "53.76",
         "55.24",
         "55.19",
         "11"
        ],
        [
         "40",
         "1004",
         "1",
         "2023-03-02 00:00:00",
         "AIR",
         "AAR CORP",
         "179969",
         "54.9",
         "54.8",
         "56.34",
         "56.07",
         "11"
        ],
        [
         "41",
         "1004",
         "1",
         "2023-03-03 00:00:00",
         "AIR",
         "AAR CORP",
         "138859",
         "56.41",
         "55.7",
         "56.71",
         "56.6",
         "11"
        ],
        [
         "42",
         "1004",
         "1",
         "2023-03-06 00:00:00",
         "AIR",
         "AAR CORP",
         "206901",
         "56.6",
         "54.63",
         "56.6",
         "54.94",
         "11"
        ],
        [
         "43",
         "1004",
         "1",
         "2023-03-07 00:00:00",
         "AIR",
         "AAR CORP",
         "200324",
         "55.08",
         "54.59",
         "55.445",
         "54.68",
         "11"
        ],
        [
         "44",
         "1004",
         "1",
         "2023-03-08 00:00:00",
         "AIR",
         "AAR CORP",
         "178036",
         "54.77",
         "53.96",
         "54.9",
         "54.67",
         "11"
        ],
        [
         "45",
         "1004",
         "1",
         "2023-03-09 00:00:00",
         "AIR",
         "AAR CORP",
         "223681",
         "54.8",
         "53.82",
         "55.5888",
         "53.95",
         "11"
        ],
        [
         "46",
         "1004",
         "1",
         "2023-03-10 00:00:00",
         "AIR",
         "AAR CORP",
         "203616",
         "53.68",
         "51.98",
         "53.71",
         "52.58",
         "11"
        ],
        [
         "47",
         "1004",
         "1",
         "2023-03-13 00:00:00",
         "AIR",
         "AAR CORP",
         "215080",
         "51.37",
         "50.73",
         "52.1",
         "51.81",
         "11"
        ],
        [
         "48",
         "1004",
         "1",
         "2023-03-14 00:00:00",
         "AIR",
         "AAR CORP",
         "168187",
         "53.29",
         "52.27",
         "53.725",
         "52.86",
         "11"
        ],
        [
         "49",
         "1004",
         "1",
         "2023-03-15 00:00:00",
         "AIR",
         "AAR CORP",
         "359526",
         "51.28",
         "49.06",
         "52.005",
         "50.75",
         "11"
        ]
       ],
       "shape": {
        "columns": 11,
        "rows": 9959
       }
      },
      "text/html": [
       "<div>\n",
       "<style scoped>\n",
       "    .dataframe tbody tr th:only-of-type {\n",
       "        vertical-align: middle;\n",
       "    }\n",
       "\n",
       "    .dataframe tbody tr th {\n",
       "        vertical-align: top;\n",
       "    }\n",
       "\n",
       "    .dataframe thead th {\n",
       "        text-align: right;\n",
       "    }\n",
       "</style>\n",
       "<table border=\"1\" class=\"dataframe\">\n",
       "  <thead>\n",
       "    <tr style=\"text-align: right;\">\n",
       "      <th></th>\n",
       "      <th>GVKEY</th>\n",
       "      <th>iid</th>\n",
       "      <th>datadate</th>\n",
       "      <th>tic</th>\n",
       "      <th>conm</th>\n",
       "      <th>cshtrd</th>\n",
       "      <th>prcod</th>\n",
       "      <th>prcld</th>\n",
       "      <th>prchd</th>\n",
       "      <th>prccd</th>\n",
       "      <th>exchg</th>\n",
       "    </tr>\n",
       "  </thead>\n",
       "  <tbody>\n",
       "    <tr>\n",
       "      <th>0</th>\n",
       "      <td>1004</td>\n",
       "      <td>1</td>\n",
       "      <td>2023-01-03</td>\n",
       "      <td>AIR</td>\n",
       "      <td>AAR CORP</td>\n",
       "      <td>260279</td>\n",
       "      <td>45.09</td>\n",
       "      <td>44.21</td>\n",
       "      <td>45.5800</td>\n",
       "      <td>44.60</td>\n",
       "      <td>11</td>\n",
       "    </tr>\n",
       "    <tr>\n",
       "      <th>1</th>\n",
       "      <td>1004</td>\n",
       "      <td>1</td>\n",
       "      <td>2023-01-04</td>\n",
       "      <td>AIR</td>\n",
       "      <td>AAR CORP</td>\n",
       "      <td>258372</td>\n",
       "      <td>44.56</td>\n",
       "      <td>44.56</td>\n",
       "      <td>45.6600</td>\n",
       "      <td>45.24</td>\n",
       "      <td>11</td>\n",
       "    </tr>\n",
       "    <tr>\n",
       "      <th>2</th>\n",
       "      <td>1004</td>\n",
       "      <td>1</td>\n",
       "      <td>2023-01-05</td>\n",
       "      <td>AIR</td>\n",
       "      <td>AAR CORP</td>\n",
       "      <td>132574</td>\n",
       "      <td>44.86</td>\n",
       "      <td>44.50</td>\n",
       "      <td>45.0400</td>\n",
       "      <td>44.82</td>\n",
       "      <td>11</td>\n",
       "    </tr>\n",
       "    <tr>\n",
       "      <th>3</th>\n",
       "      <td>1004</td>\n",
       "      <td>1</td>\n",
       "      <td>2023-01-06</td>\n",
       "      <td>AIR</td>\n",
       "      <td>AAR CORP</td>\n",
       "      <td>301259</td>\n",
       "      <td>45.20</td>\n",
       "      <td>45.20</td>\n",
       "      <td>46.5200</td>\n",
       "      <td>46.09</td>\n",
       "      <td>11</td>\n",
       "    </tr>\n",
       "    <tr>\n",
       "      <th>4</th>\n",
       "      <td>1004</td>\n",
       "      <td>1</td>\n",
       "      <td>2023-01-09</td>\n",
       "      <td>AIR</td>\n",
       "      <td>AAR CORP</td>\n",
       "      <td>372930</td>\n",
       "      <td>46.84</td>\n",
       "      <td>45.94</td>\n",
       "      <td>47.1500</td>\n",
       "      <td>46.18</td>\n",
       "      <td>11</td>\n",
       "    </tr>\n",
       "    <tr>\n",
       "      <th>...</th>\n",
       "      <td>...</td>\n",
       "      <td>...</td>\n",
       "      <td>...</td>\n",
       "      <td>...</td>\n",
       "      <td>...</td>\n",
       "      <td>...</td>\n",
       "      <td>...</td>\n",
       "      <td>...</td>\n",
       "      <td>...</td>\n",
       "      <td>...</td>\n",
       "      <td>...</td>\n",
       "    </tr>\n",
       "    <tr>\n",
       "      <th>9954</th>\n",
       "      <td>3358</td>\n",
       "      <td>2</td>\n",
       "      <td>2023-03-27</td>\n",
       "      <td>CMTL</td>\n",
       "      <td>COMTECH TELECOMMUN</td>\n",
       "      <td>39911</td>\n",
       "      <td>12.28</td>\n",
       "      <td>12.21</td>\n",
       "      <td>12.4799</td>\n",
       "      <td>12.25</td>\n",
       "      <td>14</td>\n",
       "    </tr>\n",
       "    <tr>\n",
       "      <th>9955</th>\n",
       "      <td>3358</td>\n",
       "      <td>2</td>\n",
       "      <td>2023-03-28</td>\n",
       "      <td>CMTL</td>\n",
       "      <td>COMTECH TELECOMMUN</td>\n",
       "      <td>47057</td>\n",
       "      <td>12.15</td>\n",
       "      <td>12.01</td>\n",
       "      <td>12.2150</td>\n",
       "      <td>12.03</td>\n",
       "      <td>14</td>\n",
       "    </tr>\n",
       "    <tr>\n",
       "      <th>9956</th>\n",
       "      <td>3358</td>\n",
       "      <td>2</td>\n",
       "      <td>2023-03-29</td>\n",
       "      <td>CMTL</td>\n",
       "      <td>COMTECH TELECOMMUN</td>\n",
       "      <td>65026</td>\n",
       "      <td>12.26</td>\n",
       "      <td>11.94</td>\n",
       "      <td>12.2600</td>\n",
       "      <td>12.11</td>\n",
       "      <td>14</td>\n",
       "    </tr>\n",
       "    <tr>\n",
       "      <th>9957</th>\n",
       "      <td>3358</td>\n",
       "      <td>2</td>\n",
       "      <td>2023-03-30</td>\n",
       "      <td>CMTL</td>\n",
       "      <td>COMTECH TELECOMMUN</td>\n",
       "      <td>49142</td>\n",
       "      <td>12.36</td>\n",
       "      <td>12.03</td>\n",
       "      <td>12.3661</td>\n",
       "      <td>12.12</td>\n",
       "      <td>14</td>\n",
       "    </tr>\n",
       "    <tr>\n",
       "      <th>9958</th>\n",
       "      <td>3358</td>\n",
       "      <td>2</td>\n",
       "      <td>2023-03-31</td>\n",
       "      <td>CMTL</td>\n",
       "      <td>COMTECH TELECOMMUN</td>\n",
       "      <td>83948</td>\n",
       "      <td>12.28</td>\n",
       "      <td>12.24</td>\n",
       "      <td>12.4900</td>\n",
       "      <td>12.48</td>\n",
       "      <td>14</td>\n",
       "    </tr>\n",
       "  </tbody>\n",
       "</table>\n",
       "<p>9959 rows × 11 columns</p>\n",
       "</div>"
      ],
      "text/plain": [
       "      GVKEY  iid   datadate   tic                conm  cshtrd  prcod  prcld  \\\n",
       "0      1004    1 2023-01-03   AIR            AAR CORP  260279  45.09  44.21   \n",
       "1      1004    1 2023-01-04   AIR            AAR CORP  258372  44.56  44.56   \n",
       "2      1004    1 2023-01-05   AIR            AAR CORP  132574  44.86  44.50   \n",
       "3      1004    1 2023-01-06   AIR            AAR CORP  301259  45.20  45.20   \n",
       "4      1004    1 2023-01-09   AIR            AAR CORP  372930  46.84  45.94   \n",
       "...     ...  ...        ...   ...                 ...     ...    ...    ...   \n",
       "9954   3358    2 2023-03-27  CMTL  COMTECH TELECOMMUN   39911  12.28  12.21   \n",
       "9955   3358    2 2023-03-28  CMTL  COMTECH TELECOMMUN   47057  12.15  12.01   \n",
       "9956   3358    2 2023-03-29  CMTL  COMTECH TELECOMMUN   65026  12.26  11.94   \n",
       "9957   3358    2 2023-03-30  CMTL  COMTECH TELECOMMUN   49142  12.36  12.03   \n",
       "9958   3358    2 2023-03-31  CMTL  COMTECH TELECOMMUN   83948  12.28  12.24   \n",
       "\n",
       "        prchd  prccd  exchg  \n",
       "0     45.5800  44.60     11  \n",
       "1     45.6600  45.24     11  \n",
       "2     45.0400  44.82     11  \n",
       "3     46.5200  46.09     11  \n",
       "4     47.1500  46.18     11  \n",
       "...       ...    ...    ...  \n",
       "9954  12.4799  12.25     14  \n",
       "9955  12.2150  12.03     14  \n",
       "9956  12.2600  12.11     14  \n",
       "9957  12.3661  12.12     14  \n",
       "9958  12.4900  12.48     14  \n",
       "\n",
       "[9959 rows x 11 columns]"
      ]
     },
     "execution_count": 1,
     "metadata": {},
     "output_type": "execute_result"
    }
   ],
   "source": [
    "import pandas as pd\n",
    "\n",
    "# Load the data\n",
    "df = pd.read_csv(\"data/sec_data.csv\")\n",
    "\n",
    "# Look at dates\n",
    "df.datadate\n",
    "\n",
    "# Convert the 'datadate' column to a datetime object, specifying the format\n",
    "df.datadate = pd.to_datetime(df.datadate, format=\"%d/%m/%Y\")\n",
    "\n",
    "df"
   ]
  },
  {
   "attachments": {},
   "cell_type": "markdown",
   "metadata": {},
   "source": [
    "We'll stop short of setting the index as our datetime value though. This is because an index must have unique values, and because this panel data contains lots of different company stocks for just one quarter of a year, we'll see the same date lots of times."
   ]
  },
  {
   "cell_type": "code",
   "execution_count": 2,
   "metadata": {
    "tags": [
     "hide"
    ]
   },
   "outputs": [
    {
     "data": {
      "text/plain": [
       "Timestamp('2023-01-03 00:00:00')"
      ]
     },
     "execution_count": 2,
     "metadata": {},
     "output_type": "execute_result"
    }
   ],
   "source": [
    "# How many unique dates exist in the data frame\n",
    "df.datadate.nunique()\n",
    "\n",
    "# Last date in the dataset\n",
    "df.datadate.max()\n",
    "\n",
    "# First date in the dataset\n",
    "df.datadate.min()"
   ]
  },
  {
   "attachments": {},
   "cell_type": "markdown",
   "metadata": {},
   "source": [
    "Let's explore this panel data a bit more, to answer some simple questions:\n",
    "\n",
    "- How many companies are considered in the data\n",
    "- How many stocks are considered in the data \n",
    "- Which exchanges are considered in the data\n",
    "- Which exchanges appear most\n"
   ]
  },
  {
   "cell_type": "code",
   "execution_count": 3,
   "metadata": {
    "tags": [
     "hide"
    ]
   },
   "outputs": [
    {
     "name": "stdout",
     "output_type": "stream",
     "text": [
      "Unique companies 156\n",
      "Unique stocks: 161\n",
      "Unique exhanges: [11 14 12 19]\n",
      "Exchanges by appearance: exchg\n",
      "11    6301\n",
      "14    3100\n",
      "12     496\n",
      "19      62\n",
      "Name: count, dtype: int64\n"
     ]
    }
   ],
   "source": [
    "print(\"Unique companies\", df.conm.nunique())\n",
    "print(\"Unique stocks:\", df.tic.nunique())\n",
    "\n",
    "# If we use unique() instead of nunique() we'll get the actual values\n",
    "print(\"Unique exhanges:\", df.exchg.unique())\n",
    "print(\"Exchanges by appearance:\", df.exchg.value_counts())"
   ]
  },
  {
   "attachments": {},
   "cell_type": "markdown",
   "metadata": {},
   "source": [
    "## Grouping\n"
   ]
  },
  {
   "attachments": {},
   "cell_type": "markdown",
   "metadata": {},
   "source": [
    "Grouping is a powerful way to manipulate panel data. Once you've grouped, you can call functions and they will be applied groupwise. The most common application of grouping is to calculate returns on a stock-by-stock basis, but there are many other uses!"
   ]
  },
  {
   "cell_type": "code",
   "execution_count": 4,
   "metadata": {
    "tags": [
     "hide"
    ]
   },
   "outputs": [],
   "source": [
    "# Returns calculation without grouping... Incorrect!\n",
    "# Here we will erroneously consider a price from the stock above in the dataframe\n",
    "df[\"returns\"] = df.prccd.pct_change()\n",
    "df.head(65)\n",
    "\n",
    "# Returns calculation with grouping... Much better!\n",
    "df[\"returns\"] = df.groupby(\"tic\").prccd.pct_change()\n",
    "df.head(65)\n",
    "\n",
    "# Identify the number of rows in each group\n",
    "counts = df.groupby(\"tic\").size()\n",
    "\n",
    "# Subset a specific group\n",
    "apple = df.groupby(\"tic\").get_group(\"AAPL\")\n"
   ]
  },
  {
   "cell_type": "markdown",
   "metadata": {},
   "source": [
    "Let's see what else we can do with grouping. Recall that we had more stocks than companies. Let's see why that is by looking at how many unique stocks are issued by each company (using the `tic`). Then let's list those companies."
   ]
  },
  {
   "cell_type": "code",
   "execution_count": 5,
   "metadata": {
    "tags": [
     "hide"
    ]
   },
   "outputs": [
    {
     "data": {
      "application/vnd.microsoft.datawrangler.viewer.v0+json": {
       "columns": [
        {
         "name": "conm",
         "rawType": "object",
         "type": "string"
        },
        {
         "name": "tic",
         "rawType": "int64",
         "type": "integer"
        }
       ],
       "ref": "6cec1d96-d4af-4c29-8b1b-bb1136f70eaf",
       "rows": [
        [
         "BEL FUSE INC",
         "2"
        ],
        [
         "BERKSHIRE HATHAWAY",
         "2"
        ],
        [
         "BIO-RAD LABORATORIES INC",
         "2"
        ],
        [
         "BROWN FORMAN CORP",
         "2"
        ],
        [
         "U-HAUL HOLDING CO",
         "2"
        ]
       ],
       "shape": {
        "columns": 1,
        "rows": 5
       }
      },
      "text/plain": [
       "conm\n",
       "BEL FUSE INC                2\n",
       "BERKSHIRE HATHAWAY          2\n",
       "BIO-RAD LABORATORIES INC    2\n",
       "BROWN FORMAN CORP           2\n",
       "U-HAUL HOLDING CO           2\n",
       "Name: tic, dtype: int64"
      ]
     },
     "execution_count": 5,
     "metadata": {},
     "output_type": "execute_result"
    }
   ],
   "source": [
    "\n",
    "# Identify the unique stocks for each company\n",
    "df.groupby(\"conm\").tic.unique()\n",
    "\n",
    "# To list the specific companies that have multiple stocks, we'll need a conditional\n",
    "\n",
    "# First we create a series with the number of unique stocks for each company\n",
    "unique_stocks = df.groupby(\"conm\").tic.nunique()\n",
    "\n",
    "# Then we index that series with a conditional\n",
    "unique_stocks[unique_stocks > 1]\n"
   ]
  },
  {
   "attachments": {},
   "cell_type": "markdown",
   "metadata": {},
   "source": [
    "### Exercise: Excellent Exchanges\n",
    "\n",
    "**Part 1** Identify the number of unique stocks traded on each exchange."
   ]
  },
  {
   "cell_type": "code",
   "execution_count": 6,
   "metadata": {
    "tags": [
     "todo"
    ]
   },
   "outputs": [
    {
     "data": {
      "application/vnd.microsoft.datawrangler.viewer.v0+json": {
       "columns": [
        {
         "name": "exchg",
         "rawType": "int64",
         "type": "integer"
        },
        {
         "name": "tic",
         "rawType": "int64",
         "type": "integer"
        }
       ],
       "ref": "d3291522-15ae-4d87-80ed-012da673c50d",
       "rows": [
        [
         "11",
         "102"
        ],
        [
         "12",
         "8"
        ],
        [
         "14",
         "50"
        ],
        [
         "19",
         "1"
        ]
       ],
       "shape": {
        "columns": 1,
        "rows": 4
       }
      },
      "text/plain": [
       "exchg\n",
       "11    102\n",
       "12      8\n",
       "14     50\n",
       "19      1\n",
       "Name: tic, dtype: int64"
      ]
     },
     "execution_count": 6,
     "metadata": {},
     "output_type": "execute_result"
    }
   ],
   "source": [
    "df.groupby(\"exchg\").tic.nunique()"
   ]
  },
  {
   "cell_type": "markdown",
   "metadata": {},
   "source": [
    "**Part 2** Then identify any companies that trade on more than one exchange."
   ]
  },
  {
   "cell_type": "code",
   "execution_count": 7,
   "metadata": {
    "tags": [
     "todo"
    ]
   },
   "outputs": [
    {
     "data": {
      "application/vnd.microsoft.datawrangler.viewer.v0+json": {
       "columns": [
        {
         "name": "conm",
         "rawType": "object",
         "type": "string"
        },
        {
         "name": "exchg",
         "rawType": "int64",
         "type": "integer"
        }
       ],
       "ref": "d707073c-1099-41dd-9ea3-05079f6d827e",
       "rows": [
        [
         "BIO-RAD LABORATORIES INC",
         "2"
        ]
       ],
       "shape": {
        "columns": 1,
        "rows": 1
       }
      },
      "text/plain": [
       "conm\n",
       "BIO-RAD LABORATORIES INC    2\n",
       "Name: exchg, dtype: int64"
      ]
     },
     "execution_count": 7,
     "metadata": {},
     "output_type": "execute_result"
    }
   ],
   "source": [
    "# First create a series with the number of unique exchanges for each company\n",
    "unique_exchg = df.groupby(\"conm\").exchg.nunique()\n",
    "\n",
    "# Then we index that series with a conditional\n",
    "unique_exchg[unique_exchg > 1]"
   ]
  },
  {
   "attachments": {},
   "cell_type": "markdown",
   "metadata": {},
   "source": [
    "## Aggregation\n",
    "\n",
    "Aggregation functions like `mean()`, `median()`, `sum()`, `min()`, `max()`, `first()`, `last()` and `std()` can be applied to grouped data to give insights across panel data. Say we wanted the average daily return of each traded stock, or the max volume traded on any given day for each stock?"
   ]
  },
  {
   "cell_type": "code",
   "execution_count": 8,
   "metadata": {
    "tags": [
     "hide"
    ]
   },
   "outputs": [
    {
     "data": {
      "application/vnd.microsoft.datawrangler.viewer.v0+json": {
       "columns": [
        {
         "name": "tic",
         "rawType": "object",
         "type": "string"
        },
        {
         "name": "conm",
         "rawType": "object",
         "type": "string"
        }
       ],
       "ref": "475da3a7-41f5-459e-af13-6618828fd7c1",
       "rows": [
        [
         "AAL",
         "AMERICAN AIRLINES GROUP INC"
        ],
        [
         "AAPL",
         "APPLE INC"
        ],
        [
         "ABM",
         "ABM INDUSTRIES INC"
        ],
        [
         "ABT",
         "ABBOTT LABORATORIES"
        ],
        [
         "ACU",
         "ACME UNITED CORP"
        ],
        [
         "ADI",
         "ANALOG DEVICES INC"
        ],
        [
         "ADM",
         "ARCHER-DANIELS-MIDLAND CO"
        ],
        [
         "ADP",
         "AUTOMATIC DATA PROCESSING"
        ],
        [
         "ADSK",
         "AUTODESK INC"
        ],
        [
         "ADX",
         "ADAMS DIVERSIFIED EQUITY FD"
        ],
        [
         "AE",
         "ADAMS RESOURCES & ENERGY INC"
        ],
        [
         "AEM",
         "AGNICO EAGLE MINES LTD"
        ],
        [
         "AEP",
         "AMERICAN ELECTRIC POWER CO"
        ],
        [
         "AFL",
         "AFLAC INC"
        ],
        [
         "AIG",
         "AMERICAN INTERNATIONAL GROUP"
        ],
        [
         "AIR",
         "AAR CORP"
        ],
        [
         "AIRT",
         "AIR T INC"
        ],
        [
         "AIT",
         "APPLIED INDUSTRIAL TECH INC"
        ],
        [
         "ALCO",
         "ALICO INC"
        ],
        [
         "ALK",
         "ALASKA AIR GROUP INC"
        ],
        [
         "ALOT",
         "ASTRONOVA INC"
        ],
        [
         "ALX",
         "ALEXANDER'S INC"
        ],
        [
         "AMAT",
         "APPLIED MATERIALS INC"
        ],
        [
         "AMD",
         "ADVANCED MICRO DEVICES"
        ],
        [
         "AME",
         "AMETEK INC"
        ],
        [
         "AMGN",
         "AMGEN INC"
        ],
        [
         "AMS",
         "AMERICAN SHARED HSPTL SERV"
        ],
        [
         "AMSWA",
         "AMERICAN SOFTWARE  -CL A"
        ],
        [
         "ANDE",
         "ANDERSONS INC"
        ],
        [
         "AON",
         "AON PLC"
        ],
        [
         "AP",
         "AMPCO-PITTSBURGH CORP"
        ],
        [
         "APA",
         "APA CORP"
        ],
        [
         "APD",
         "AIR PRODUCTS & CHEMICALS INC"
        ],
        [
         "APOG",
         "APOGEE ENTERPRISES INC"
        ],
        [
         "ARCB",
         "ARCBEST CORP"
        ],
        [
         "ARL",
         "AMERICAN REALTY INVESTORS"
        ],
        [
         "ARTW",
         "ARTS WAY MFG INC"
        ],
        [
         "ARW",
         "ARROW ELECTRONICS INC"
        ],
        [
         "ASA",
         "ASA GOLD AND PRECIOUS METALS"
        ],
        [
         "ASH",
         "ASHLAND INC"
        ],
        [
         "ASTL",
         "ALGOMA STEEL GROUP INC"
        ],
        [
         "ATRI",
         "ATRION CORP"
        ],
        [
         "ATRO",
         "ASTRONICS CORP"
        ],
        [
         "AVD",
         "AMERICAN VANGUARD CORP"
        ],
        [
         "AVT",
         "AVNET INC"
        ],
        [
         "AVY",
         "AVERY DENNISON CORP"
        ],
        [
         "AXP",
         "AMERICAN EXPRESS CO"
        ],
        [
         "AXR",
         "AMREP CORP"
        ],
        [
         "AZZ",
         "AZZ INC"
        ],
        [
         "B",
         "BARNES GROUP INC"
        ]
       ],
       "shape": {
        "columns": 1,
        "rows": 161
       }
      },
      "text/plain": [
       "tic\n",
       "AAL       AMERICAN AIRLINES GROUP INC\n",
       "AAPL                        APPLE INC\n",
       "ABM                ABM INDUSTRIES INC\n",
       "ABT               ABBOTT LABORATORIES\n",
       "ACU                  ACME UNITED CORP\n",
       "                     ...             \n",
       "UHAL.B              U-HAUL HOLDING CO\n",
       "UIS                       UNISYS CORP\n",
       "VAL                       VALARIS LTD\n",
       "VBF                 INVESCO BOND FUND\n",
       "VZ         VERIZON COMMUNICATIONS INC\n",
       "Name: conm, Length: 161, dtype: object"
      ]
     },
     "execution_count": 8,
     "metadata": {},
     "output_type": "execute_result"
    }
   ],
   "source": [
    "df.groupby(\"tic\").returns.mean()\n",
    "\n",
    "df.groupby(\"tic\").prccd.min()\n",
    "\n",
    "df.groupby(\"tic\").prccd.first() # notice this is different to min()!\n",
    "\n",
    "df.groupby(\"tic\").conm.first() # first() is commonly used for aggregating like, non-numeric data\n"
   ]
  },
  {
   "attachments": {},
   "cell_type": "markdown",
   "metadata": {},
   "source": [
    "Once we've done these sorts of aggregation, we're often curious to see who sits at the top or the bottom of the distribution. We can use `nlargest()` and its antonym here."
   ]
  },
  {
   "cell_type": "code",
   "execution_count": 9,
   "metadata": {
    "tags": [
     "hide"
    ]
   },
   "outputs": [
    {
     "data": {
      "application/vnd.microsoft.datawrangler.viewer.v0+json": {
       "columns": [
        {
         "name": "tic",
         "rawType": "object",
         "type": "string"
        },
        {
         "name": "cshtrd",
         "rawType": "int64",
         "type": "integer"
        }
       ],
       "ref": "20ed3a30-5e99-4f10-83f3-035e76df9b83",
       "rows": [
        [
         "LUMN",
         "315918300"
        ],
        [
         "AAPL",
         "154211800"
        ],
        [
         "AMD",
         "152049200"
        ],
        [
         "AAL",
         "96213400"
        ],
        [
         "CMCSA",
         "51720130"
        ]
       ],
       "shape": {
        "columns": 1,
        "rows": 5
       }
      },
      "text/plain": [
       "tic\n",
       "LUMN     315918300\n",
       "AAPL     154211800\n",
       "AMD      152049200\n",
       "AAL       96213400\n",
       "CMCSA     51720130\n",
       "Name: cshtrd, dtype: int64"
      ]
     },
     "execution_count": 9,
     "metadata": {},
     "output_type": "execute_result"
    }
   ],
   "source": [
    "df.groupby(\"tic\").returns.mean().nsmallest()\n",
    "\n",
    "df.groupby(\"tic\").cshtrd.max().nlargest()\n"
   ]
  },
  {
   "attachments": {},
   "cell_type": "markdown",
   "metadata": {},
   "source": [
    "We can also group by multiple columns! This can be helpful when doing aggregation, for example, to find high performers in each month."
   ]
  },
  {
   "cell_type": "code",
   "execution_count": 10,
   "metadata": {
    "tags": [
     "hide"
    ]
   },
   "outputs": [
    {
     "data": {
      "application/vnd.microsoft.datawrangler.viewer.v0+json": {
       "columns": [
        {
         "name": "('tic', 'month')",
         "rawType": "object",
         "type": "unknown"
        },
        {
         "name": "prccd",
         "rawType": "float64",
         "type": "float"
        }
       ],
       "ref": "b49a945c-29d1-4eb0-b6cf-b3a1f8d85b84",
       "rows": [
        [
         "('AAL', 'February')",
         "17.06"
        ],
        [
         "('AAL', 'January')",
         "17.08"
        ],
        [
         "('AAL', 'March')",
         "16.59"
        ],
        [
         "('AAPL', 'February')",
         "155.33"
        ],
        [
         "('AAPL', 'January')",
         "145.93"
        ],
        [
         "('AAPL', 'March')",
         "164.9"
        ],
        [
         "('ABM', 'February')",
         "49.04"
        ],
        [
         "('ABM', 'January')",
         "46.91"
        ],
        [
         "('ABM', 'March')",
         "48.82"
        ],
        [
         "('ABT', 'February')",
         "112.25"
        ],
        [
         "('ABT', 'January')",
         "114.01"
        ],
        [
         "('ABT', 'March')",
         "104.45"
        ],
        [
         "('ACU', 'February')",
         "25.38"
        ],
        [
         "('ACU', 'January')",
         "23.6"
        ],
        [
         "('ACU', 'March')",
         "26.155"
        ],
        [
         "('ADI', 'February')",
         "196.18"
        ],
        [
         "('ADI', 'January')",
         "171.47"
        ],
        [
         "('ADI', 'March')",
         "197.22"
        ],
        [
         "('ADM', 'February')",
         "83.37"
        ],
        [
         "('ADM', 'January')",
         "89.65"
        ],
        [
         "('ADM', 'March')",
         "81.4"
        ],
        [
         "('ADP', 'February')",
         "228.99"
        ],
        [
         "('ADP', 'January')",
         "245.36"
        ],
        [
         "('ADP', 'March')",
         "225.52"
        ],
        [
         "('ADSK', 'February')",
         "229.28"
        ],
        [
         "('ADSK', 'January')",
         "215.16"
        ],
        [
         "('ADSK', 'March')",
         "208.33"
        ],
        [
         "('ADX', 'February')",
         "16.05"
        ],
        [
         "('ADX', 'January')",
         "15.56"
        ],
        [
         "('ADX', 'March')",
         "15.56"
        ],
        [
         "('AE', 'February')",
         "60.49"
        ],
        [
         "('AE', 'January')",
         "50.05"
        ],
        [
         "('AE', 'March')",
         "58.05"
        ],
        [
         "('AEM', 'February')",
         "57.2"
        ],
        [
         "('AEM', 'January')",
         "57.91"
        ],
        [
         "('AEM', 'March')",
         "52.24"
        ],
        [
         "('AEP', 'February')",
         "94.65"
        ],
        [
         "('AEP', 'January')",
         "97.95"
        ],
        [
         "('AEP', 'March')",
         "92.59"
        ],
        [
         "('AFL', 'February')",
         "73.28"
        ],
        [
         "('AFL', 'January')",
         "73.84"
        ],
        [
         "('AFL', 'March')",
         "68.44"
        ],
        [
         "('AIG', 'February')",
         "62.16"
        ],
        [
         "('AIG', 'January')",
         "64.55"
        ],
        [
         "('AIG', 'March')",
         "60.96"
        ],
        [
         "('AIR', 'February')",
         "55.0"
        ],
        [
         "('AIR', 'January')",
         "51.44"
        ],
        [
         "('AIR', 'March')",
         "56.6"
        ],
        [
         "('AIRT', 'February')",
         "23.8"
        ],
        [
         "('AIRT', 'January')",
         "27.21"
        ]
       ],
       "shape": {
        "columns": 1,
        "rows": 482
       }
      },
      "text/plain": [
       "tic   month   \n",
       "AAL   February     17.06\n",
       "      January      17.08\n",
       "      March        16.59\n",
       "AAPL  February    155.33\n",
       "      January     145.93\n",
       "                   ...  \n",
       "VBF   January      16.77\n",
       "      March        16.22\n",
       "VZ    February     41.83\n",
       "      January      42.19\n",
       "      March        38.89\n",
       "Name: prccd, Length: 482, dtype: float64"
      ]
     },
     "execution_count": 10,
     "metadata": {},
     "output_type": "execute_result"
    }
   ],
   "source": [
    "# First create a column to specify the month\n",
    "df[\"month\"] = df.datadate.dt.month_name()\n",
    "\n",
    "# Then use it to group and aggregate for max closing price each month\n",
    "df.groupby([\"tic\", \"month\"]).prccd.max()"
   ]
  },
  {
   "attachments": {},
   "cell_type": "markdown",
   "metadata": {},
   "source": [
    "### Exercise: Good Days\n",
    "\n",
    "Which two days of the week see the highest average close in this data set, and what is the average close for those days?  "
   ]
  },
  {
   "cell_type": "code",
   "execution_count": 11,
   "metadata": {
    "tags": [
     "todo"
    ]
   },
   "outputs": [
    {
     "data": {
      "application/vnd.microsoft.datawrangler.viewer.v0+json": {
       "columns": [
        {
         "name": "day",
         "rawType": "object",
         "type": "string"
        },
        {
         "name": "prccd",
         "rawType": "float64",
         "type": "float"
        }
       ],
       "ref": "02102d50-5035-410f-a725-94dd54c61e5b",
       "rows": [
        [
         "Tuesday",
         "3009.6167196744855"
        ],
        [
         "Monday",
         "3001.989467932752"
        ]
       ],
       "shape": {
        "columns": 1,
        "rows": 2
       }
      },
      "text/plain": [
       "day\n",
       "Tuesday    3009.616720\n",
       "Monday     3001.989468\n",
       "Name: prccd, dtype: float64"
      ]
     },
     "execution_count": 11,
     "metadata": {},
     "output_type": "execute_result"
    }
   ],
   "source": [
    "df[\"day\"] = df.datadate.dt.day_name()\n",
    "df.groupby(\"day\").prccd.mean().nlargest(2)"
   ]
  },
  {
   "attachments": {},
   "cell_type": "markdown",
   "metadata": {},
   "source": [
    "### Exercise: Trading Exchanges\n",
    "\n",
    "Next identify the total trading volume of each exchange."
   ]
  },
  {
   "cell_type": "code",
   "execution_count": 12,
   "metadata": {
    "tags": [
     "todo"
    ]
   },
   "outputs": [
    {
     "data": {
      "application/vnd.microsoft.datawrangler.viewer.v0+json": {
       "columns": [
        {
         "name": "exchg",
         "rawType": "int64",
         "type": "integer"
        },
        {
         "name": "cshtrd",
         "rawType": "int64",
         "type": "integer"
        }
       ],
       "ref": "ce446174-8fa2-4898-9998-c52cea28984d",
       "rows": [
        [
         "11",
         "17462494850"
        ],
        [
         "12",
         "10819766"
        ],
        [
         "14",
         "14134028207"
        ],
        [
         "19",
         "21345489"
        ]
       ],
       "shape": {
        "columns": 1,
        "rows": 4
       }
      },
      "text/plain": [
       "exchg\n",
       "11    17462494850\n",
       "12       10819766\n",
       "14    14134028207\n",
       "19       21345489\n",
       "Name: cshtrd, dtype: int64"
      ]
     },
     "execution_count": 12,
     "metadata": {},
     "output_type": "execute_result"
    }
   ],
   "source": [
    "df.groupby(\"exchg\").cshtrd.sum()"
   ]
  },
  {
   "cell_type": "markdown",
   "metadata": {},
   "source": [
    "### Exercise: The 500 Club\n",
    "\n",
    "For stocks that reached a closing price above 500, how many times in each month, did they acheive this?"
   ]
  },
  {
   "cell_type": "code",
   "execution_count": 13,
   "metadata": {
    "tags": [
     "todo"
    ]
   },
   "outputs": [
    {
     "data": {
      "application/vnd.microsoft.datawrangler.viewer.v0+json": {
       "columns": [
        {
         "name": "('tic', 'month')",
         "rawType": "object",
         "type": "unknown"
        },
        {
         "name": "0",
         "rawType": "int64",
         "type": "integer"
        }
       ],
       "ref": "708cca57-4e73-4bf0-89ec-93cc129bf5d8",
       "rows": [
        [
         "('ATRI', 'February')",
         "19"
        ],
        [
         "('ATRI', 'January')",
         "20"
        ],
        [
         "('ATRI', 'March')",
         "23"
        ],
        [
         "('BIO', 'March')",
         "2"
        ],
        [
         "('BRK.A', 'February')",
         "19"
        ],
        [
         "('BRK.A', 'January')",
         "20"
        ],
        [
         "('BRK.A', 'March')",
         "23"
        ],
        [
         "('CHE', 'February')",
         "15"
        ],
        [
         "('CHE', 'January')",
         "8"
        ],
        [
         "('CHE', 'March')",
         "23"
        ],
        [
         "('COKE', 'February')",
         "19"
        ],
        [
         "('COKE', 'January')",
         "3"
        ],
        [
         "('COKE', 'March')",
         "22"
        ]
       ],
       "shape": {
        "columns": 1,
        "rows": 13
       }
      },
      "text/plain": [
       "tic    month   \n",
       "ATRI   February    19\n",
       "       January     20\n",
       "       March       23\n",
       "BIO    March        2\n",
       "BRK.A  February    19\n",
       "       January     20\n",
       "       March       23\n",
       "CHE    February    15\n",
       "       January      8\n",
       "       March       23\n",
       "COKE   February    19\n",
       "       January      3\n",
       "       March       22\n",
       "dtype: int64"
      ]
     },
     "execution_count": 13,
     "metadata": {},
     "output_type": "execute_result"
    }
   ],
   "source": [
    "df[df.prccd > 500].groupby([\"tic\", \"month\"]).size()"
   ]
  }
 ],
 "metadata": {
  "kernelspec": {
   "display_name": ".venv",
   "language": "python",
   "name": "python3"
  },
  "language_info": {
   "codemirror_mode": {
    "name": "ipython",
    "version": 3
   },
   "file_extension": ".py",
   "mimetype": "text/x-python",
   "name": "python",
   "nbconvert_exporter": "python",
   "pygments_lexer": "ipython3",
   "version": "3.12.4"
  },
  "orig_nbformat": 4
 },
 "nbformat": 4,
 "nbformat_minor": 2
}
