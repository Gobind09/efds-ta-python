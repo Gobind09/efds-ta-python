{
 "cells": [
  {
   "attachments": {},
   "cell_type": "markdown",
   "metadata": {},
   "source": [
    "# Introduction to Time Series Data\n",
    "\n",
    "We will explore two main kinds of tabular data in this workshop. The first is time series data. Time series data will be *indexed* with a date and time. We'll look a bit more closely at that soon, but for now just think of it as each row having a date or time, rather than a row number."
   ]
  },
  {
   "attachments": {},
   "cell_type": "markdown",
   "metadata": {},
   "source": [
    "## Pandas Refresh\n",
    "\n",
    "One of the most popular packages in Python for working with tabular data is called Pandas, which was introduced in a supplementary notebook in DSA.\n",
    "\n",
    "The first thing we'll do is `import` the `pandas` package. Convention has us use a shortform name - `pd` - because we'll be using the package so often."
   ]
  },
  {
   "cell_type": "code",
   "execution_count": 2,
   "metadata": {
    "tags": [
     "hide"
    ]
   },
   "outputs": [],
   "source": [
    "import pandas as pd"
   ]
  },
  {
   "attachments": {},
   "cell_type": "markdown",
   "metadata": {},
   "source": [
    "And below we'll use pandas' `read_csv()` to load the data into a `DataFrame`. DataFrames are the main data structure in pandas for tabular data, and lots of other programming languages use the concept of a DataFrame too! By convention, you'll often see `df` used as a variable name."
   ]
  },
  {
   "cell_type": "code",
   "execution_count": null,
   "metadata": {
    "tags": [
     "hide"
    ]
   },
   "outputs": [],
   "source": [
    "# Load the data\n",
    "df = pd.read_csv(\"https://raw.githubusercontent.com/ImperialCollegeLondon/efds-ta-python/refs/heads/main/data/AAPL_2023.csv\")"
   ]
  },
  {
   "attachments": {},
   "cell_type": "markdown",
   "metadata": {},
   "source": [
    "Before we do anything else, it's a good idea to take a look at the DataFrame. Some methods will let us take a closer look at parts of our data. "
   ]
  },
  {
   "cell_type": "code",
   "execution_count": 4,
   "metadata": {
    "tags": [
     "hide"
    ]
   },
   "outputs": [
    {
     "name": "stdout",
     "output_type": "stream",
     "text": [
      "         Date        Open        High         Low       Close   Adj Close  \\\n",
      "0  2023-01-03  130.279999  130.899994  124.169998  125.070000  124.216301   \n",
      "1  2023-01-04  126.889999  128.660004  125.080002  126.360001  125.497498   \n",
      "2  2023-01-05  127.129997  127.769997  124.760002  125.019997  124.166641   \n",
      "3  2023-01-06  126.010002  130.289993  124.889999  129.619995  128.735229   \n",
      "4  2023-01-09  130.470001  133.410004  129.889999  130.149994  129.261627   \n",
      "\n",
      "      Volume  \n",
      "0  112117500  \n",
      "1   89113600  \n",
      "2   80962700  \n",
      "3   87754700  \n",
      "4   70790800  \n",
      "           Date        Open        High         Low       Close   Adj Close  \\\n",
      "235  2023-12-08  194.199997  195.990005  193.669998  195.710007  195.460587   \n",
      "236  2023-12-11  193.110001  193.490005  191.419998  193.179993  192.933807   \n",
      "237  2023-12-12  193.080002  194.720001  191.720001  194.710007  194.461868   \n",
      "238  2023-12-13  195.089996  198.000000  194.850006  197.960007  197.707718   \n",
      "239  2023-12-14  198.020004  199.619995  196.160004  198.110001  197.857529   \n",
      "240  2023-12-15  197.529999  198.399994  197.000000  197.570007  197.318222   \n",
      "241  2023-12-18  196.089996  196.630005  194.389999  195.889999  195.640350   \n",
      "242  2023-12-19  196.160004  196.949997  195.889999  196.940002  196.689026   \n",
      "243  2023-12-20  196.899994  197.679993  194.830002  194.830002  194.581711   \n",
      "244  2023-12-21  196.100006  197.080002  193.500000  194.679993  194.431885   \n",
      "245  2023-12-22  195.179993  195.410004  192.970001  193.600006  193.353287   \n",
      "246  2023-12-26  193.610001  193.889999  192.830002  193.050003  192.803986   \n",
      "247  2023-12-27  192.490005  193.500000  191.089996  193.149994  192.903839   \n",
      "248  2023-12-28  194.139999  194.660004  193.169998  193.580002  193.333298   \n",
      "249  2023-12-29  193.899994  194.399994  191.729996  192.529999  192.284637   \n",
      "\n",
      "        Volume  \n",
      "235   53377300  \n",
      "236   60943700  \n",
      "237   52696900  \n",
      "238   70404200  \n",
      "239   66831600  \n",
      "240  128256700  \n",
      "241   55751900  \n",
      "242   40714100  \n",
      "243   52242800  \n",
      "244   46482500  \n",
      "245   37122800  \n",
      "246   28919300  \n",
      "247   48087700  \n",
      "248   34049900  \n",
      "249   42628800  \n"
     ]
    }
   ],
   "source": [
    "# Print the first five rows\n",
    "print(df.head())\n",
    "\n",
    "# Print the last 15 rows\n",
    "print(df.tail(15))\n"
   ]
  },
  {
   "attachments": {},
   "cell_type": "markdown",
   "metadata": {},
   "source": [
    "Other methods and attributes can give us an overview, and give us further insights to our data in general. `shape()` will tell us the number of rows and columns in our data frame, while `info()` will give us some info on the data type (`dtype`) of each column.\n",
    "\n",
    "You'll notice the types are slightly different from the usual Python types - this is because they belong to the `numpy` package, which sits under the hood of `pandas`. We'll look more at `numpy` tomorrow, but for now here is a word about each of the types in our data frame.\n",
    "\n",
    "- `float64` - 64-bit floating point (number with a decimal point)\n",
    "- `int64` - 64-bit integer (whole number)\n",
    "- `object` - other Python data types (strings in this case)"
   ]
  },
  {
   "cell_type": "code",
   "execution_count": null,
   "metadata": {
    "tags": [
     "hide"
    ]
   },
   "outputs": [],
   "source": [
    "# Print rows and columns\n",
    "print(\"🚣 Rows and columns: \", df.shape, \"\\n\")\n",
    "\n",
    "# Print summary info\n",
    "print(\"ℹ Info:\")\n",
    "print(df.info())\n"
   ]
  },
  {
   "attachments": {},
   "cell_type": "markdown",
   "metadata": {},
   "source": [
    "For a look at some actual data within the data frame, we can use square bracket notation and `iloc` to access columns and rows. The `i` in `iloc` refers to **integer-based indexing**, so looking at a row or column *number*."
   ]
  },
  {
   "cell_type": "code",
   "execution_count": null,
   "metadata": {
    "tags": [
     "hide"
    ]
   },
   "outputs": [],
   "source": [
    "# Access a column\n",
    "print(df[\"Close\"])\n",
    "\n",
    "# Access multiple columns\n",
    "print(df[[\"Open\", \"Close\"]])\n",
    "\n",
    "# Access a row\n",
    "print(df[df[\"Date\"] == \"2023-08-18\"])\n",
    "\n",
    "# Access the first row\n",
    "print(df.iloc[0])\n",
    "\n",
    "# Access the tenth row and the third column - a specific cell\n",
    "print(df.iloc[9, 2])\n",
    "\n",
    "# However, it is preferable to use .iat for single values\n",
    "print(df.iat[9, 2])\n"
   ]
  },
  {
   "cell_type": "markdown",
   "metadata": {},
   "source": [
    "### Exercise: End of Year\n",
    "\n",
    "Display the data for the entire month of December 2023."
   ]
  },
  {
   "cell_type": "code",
   "execution_count": null,
   "metadata": {
    "tags": [
     "todo"
    ]
   },
   "outputs": [],
   "source": []
  },
  {
   "cell_type": "markdown",
   "metadata": {},
   "source": [
    "### Exercise: The First Fifty\n",
    "\n",
    "Display the data for the first fifty (50) days of trading in the period."
   ]
  },
  {
   "cell_type": "code",
   "execution_count": null,
   "metadata": {
    "tags": [
     "todo"
    ]
   },
   "outputs": [],
   "source": []
  },
  {
   "cell_type": "markdown",
   "metadata": {},
   "source": [
    "### Exercise: Roughly Monthly\n",
    "\n",
    "Display the data at each 21-day interval, over the entire period."
   ]
  },
  {
   "cell_type": "code",
   "execution_count": null,
   "metadata": {
    "tags": [
     "todo"
    ]
   },
   "outputs": [],
   "source": []
  },
  {
   "attachments": {},
   "cell_type": "markdown",
   "metadata": {},
   "source": [
    "## Setting the Index\n",
    "\n",
    "In a DataFrame, each row is assigned a unique index value. By default, this is just a number (starting at 0). When it makes sense, we can choose one of the other columns to be an index. For time series data, where each row represents a different point in time, we'll set our `Date` column as the index. This will make it easier for us to work with the data, and can speed up other operations later on.\n"
   ]
  },
  {
   "cell_type": "code",
   "execution_count": null,
   "metadata": {
    "tags": [
     "hide"
    ]
   },
   "outputs": [],
   "source": [
    "# Convert the 'Date' column to a datetime object\n",
    "df['Date'] = pd.to_datetime(df['Date'])\n",
    "\n",
    "# Set the 'Date' column as the index\n",
    "df.set_index('Date', inplace=True)"
   ]
  },
  {
   "attachments": {},
   "cell_type": "markdown",
   "metadata": {},
   "source": [
    "We convert the 'Date' column to a datetime object because pandas can recognise and efficiently work with datetime objects. We set the `Date` column as the index because in time-series data like ours, operations are time-based."
   ]
  },
  {
   "attachments": {},
   "cell_type": "markdown",
   "metadata": {},
   "source": [
    "With the index set, we can now use it to access different portions of our data a little bit more easily. Because our indices are labeled, we can use `loc` for **label-based indexing**."
   ]
  },
  {
   "cell_type": "code",
   "execution_count": null,
   "metadata": {
    "tags": [
     "hide"
    ]
   },
   "outputs": [],
   "source": [
    "# Access a row\n",
    "print(df.loc['2023-08-18'])\n",
    "\n",
    "# Access a specific cell - we can use .loc\n",
    "print(df.loc['2023-08-18', 'Close'])\n",
    "\n",
    "# But it is preferable to use .at for a single cell\n",
    "print(df.at['2023-08-18', 'Close'])\n",
    "\n",
    "# Access a range\n",
    "print(df.loc[\"2023-08-18\":\"2023-08-22\"])\n"
   ]
  },
  {
   "attachments": {},
   "cell_type": "markdown",
   "metadata": {},
   "source": [
    "## Basic Operations\n",
    "There are also many basic operations we can do with pandas, such as calculating the mean of a column, the maximum of a column, and so on.\n"
   ]
  },
  {
   "cell_type": "code",
   "execution_count": null,
   "metadata": {
    "tags": [
     "hide"
    ]
   },
   "outputs": [],
   "source": [
    "# Calculate the mean of 'Close' prices\n",
    "print(\"Mean close\", df['Close'].mean())\n",
    "\n",
    "# Find the maximum volume traded\n",
    "print(\"Max volume\", df['Volume'].max())\n",
    "\n",
    "# Find the day that had the max volume traded\n",
    "print(\"Max volume day\", df['Volume'].idxmax())\n",
    "\n",
    "# Be careful when using these operations on multiple columns\n",
    "# We can calculate the mean of the high and low column like so\n",
    "print(\"High/low COLUMN average\")\n",
    "print(df[[\"Low\", \"High\"]].mean())\n",
    "\n",
    "# Or we can calculate the mean high low of each row\n",
    "print(\"High/low ROW average\")\n",
    "print(df[[\"Low\", \"High\"]].mean(axis=1))"
   ]
  },
  {
   "attachments": {},
   "cell_type": "markdown",
   "metadata": {},
   "source": [
    "### Exercise: Apple Quarters\n",
    "\n",
    "Compare AAPL's *median* **high** in Q1 and Q2 of 2023. In which quarter was it higher? Use the cell below to show your work."
   ]
  },
  {
   "cell_type": "code",
   "execution_count": null,
   "metadata": {
    "tags": [
     "todo"
    ]
   },
   "outputs": [],
   "source": []
  },
  {
   "cell_type": "markdown",
   "metadata": {},
   "source": [
    "### Exercise: March Madness\n",
    "\n",
    "Looking only at the month of March, print the following information:\n",
    "\n",
    "* First opening price of the period\n",
    "* Last close price of the period\n",
    "* Total volume traded over the period"
   ]
  },
  {
   "cell_type": "code",
   "execution_count": null,
   "metadata": {
    "tags": [
     "todo"
    ]
   },
   "outputs": [],
   "source": []
  }
 ],
 "metadata": {
  "kernelspec": {
   "display_name": ".venv",
   "language": "python",
   "name": "python3"
  },
  "language_info": {
   "codemirror_mode": {
    "name": "ipython",
    "version": 3
   },
   "file_extension": ".py",
   "mimetype": "text/x-python",
   "name": "python",
   "nbconvert_exporter": "python",
   "pygments_lexer": "ipython3",
   "version": "3.12.4"
  },
  "orig_nbformat": 4
 },
 "nbformat": 4,
 "nbformat_minor": 2
}
