{
 "cells": [
  {
   "attachments": {},
   "cell_type": "markdown",
   "metadata": {},
   "source": [
    "# NumPy Operations\n",
    "NumPy is a Python package that provides lots of the underlying functionality of pandas. In fact we encounter NumPy every time we see a NaN value. Pandas uses NumPy under-the-hood to optimise several of its internal computations too.\n",
    "\n",
    "Before we start, let's load `pandas`, `numpy` and our dataset.  Notice that NumPy also has a preferred shortform."
   ]
  },
  {
   "cell_type": "code",
   "execution_count": null,
   "metadata": {
    "tags": [
     "hide"
    ]
   },
   "outputs": [],
   "source": [
    "import pandas as pd\n",
    "import numpy as np"
   ]
  },
  {
   "cell_type": "code",
   "execution_count": null,
   "metadata": {
    "tags": [
     "hide"
    ]
   },
   "outputs": [],
   "source": [
    "df = pd.read_csv(\"data/AAPL_2024_clean.csv\")\n",
    "df[\"Date\"] = pd.to_datetime(df[\"Date\"])\n",
    "df = df.set_index(\"Date\").sort_index().drop_duplicates()\n",
    "df"
   ]
  },
  {
   "attachments": {},
   "cell_type": "markdown",
   "metadata": {},
   "source": [
    "## Log Returns\n",
    "\n",
    "Logarithmic returns are often used in finance due to their nice statistical properties. They are additive over time and this makes them ideal for historical returns over multiple periods. Consider the following case:\n",
    "\n",
    "- You invest £100\n",
    "- On the first day the simple daily return is 10%. Your investment is now worth £110\n",
    "- On the second day your simple daily return is -10%. But now your investment is only worth £99\n",
    "\n",
    "If you were just looking at simple returns, you might assume we had a net zero change. Logarithmic returns account for this compounding - adding the two log returns in this example would give -0.91%, close to the real -1% loss. The formula for calculating log returns is below.\n",
    "\n",
    "$$ ln(\\frac{price_{current}}{price_{original}}) $$\n",
    "\n",
    "For daily returns, we'll use `shift()` to get the *original* price (i.e. the close price the day before). We'll store it in a new column to make the process easier to see. Then we'll need to use NumPy's `log` function to calculate the log returns."
   ]
  },
  {
   "cell_type": "code",
   "execution_count": null,
   "metadata": {
    "tags": [
     "hide"
    ]
   },
   "outputs": [],
   "source": [
    "# Shift to get previous close on the same row\n",
    "df[\"Prev Close\"] = df[\"Adj Close\"].shift(1)\n",
    "df\n",
    "\n",
    "# Apply the formula\n",
    "df[\"Log Returns\"] = np.log(df[\"Adj Close\"] / df[\"Prev Close\"])\n",
    "df\n",
    "\n",
    "# Because log(a/b) = log(a) - log(b)\n",
    "df[\"Simpler Log Returns\"] = np.log(df[\"Adj Close\"]) - np.log(df[\"Prev Close\"])\n",
    "df\n",
    "\n",
    "# Finding the difference between two rows is such a common operation, we have diff()\n",
    "df[\"Even Simpler Log Returns\"] = np.log(df[\"Adj Close\"]).diff()\n",
    "df\n",
    "\n",
    "# We can also find the log of 1 + the simple daily return\n",
    "df[\"From simple to log\"] = np.log(1 + df[\"Adj Close\"].pct_change())\n",
    "df"
   ]
  },
  {
   "attachments": {},
   "cell_type": "markdown",
   "metadata": {},
   "source": [
    "### Exercise: Cumulatively Comparing\n",
    "\n",
    "The sum of the log returns is the natural logarithm of the cumulative return. To calculate the cumulative return from the log returns, sum the log returns over the period and exponentiate (NumPy has an `exp` function for this) the sum.\n",
    "\n",
    "Calculate the cumulative daily return based on the adjusted close, and compare this to the cumulative return calculated from the log return."
   ]
  },
  {
   "cell_type": "code",
   "execution_count": null,
   "metadata": {
    "tags": [
     "todo"
    ]
   },
   "outputs": [],
   "source": []
  },
  {
   "attachments": {},
   "cell_type": "markdown",
   "metadata": {},
   "source": [
    "## Other useful functions\n",
    "\n",
    "Another useful NumPy function is `np.where()`, often used for populating columns with a signal or indicator, depending on if a condition is met. Let's create a column to colour code our trading days. Days will have a different colour depening on if the market closes higher (green) or lower (red) than the opening."
   ]
  },
  {
   "cell_type": "code",
   "execution_count": null,
   "metadata": {
    "tags": [
     "hide"
    ]
   },
   "outputs": [],
   "source": [
    "df[\"Colour\"] = np.where(df[\"Close\"] > df[\"Open\"], \"green\", \"red\")\n",
    "df\n",
    "\n"
   ]
  },
  {
   "attachments": {},
   "cell_type": "markdown",
   "metadata": {},
   "source": [
    "There is more to NumPy that is well worth exploring on your own!"
   ]
  }
 ],
 "metadata": {
  "kernelspec": {
   "display_name": ".venv",
   "language": "python",
   "name": "python3"
  },
  "language_info": {
   "codemirror_mode": {
    "name": "ipython",
    "version": 3
   },
   "file_extension": ".py",
   "mimetype": "text/x-python",
   "name": "python",
   "nbconvert_exporter": "python",
   "pygments_lexer": "ipython3",
   "version": "3.12.4"
  },
  "orig_nbformat": 4
 },
 "nbformat": 4,
 "nbformat_minor": 2
}
