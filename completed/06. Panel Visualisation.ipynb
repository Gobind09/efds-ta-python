{
 "cells": [
  {
   "attachments": {},
   "cell_type": "markdown",
   "metadata": {},
   "source": [
    "# Multi Stock Analysis\n",
    "\n",
    "Let's work with some multiple stock panel data now. We'll use the same libraries as before, but we'll also introduce `seaborn` - another increasingly popular visualisation library. Again, we'll start with all of our imports.\n"
   ]
  },
  {
   "cell_type": "code",
   "execution_count": null,
   "metadata": {},
   "outputs": [],
   "source": [
    "import pandas as pd\n",
    "import matplotlib.pyplot as plt\n",
    "import seaborn as sns\n",
    "\n",
    "plt.style.use(\"ggplot\")"
   ]
  },
  {
   "attachments": {},
   "cell_type": "markdown",
   "metadata": {},
   "source": [
    "Let's load the panel data as normal."
   ]
  },
  {
   "cell_type": "code",
   "execution_count": null,
   "metadata": {},
   "outputs": [],
   "source": [
    "df = pd.read_csv(\"https://raw.githubusercontent.com/ImperialCollegeLondon/efds-ta-python/refs/heads/main/data/tech_eight.csv\")\n",
    "df.datadate = pd.to_datetime(df.datadate, dayfirst=True)\n",
    "df"
   ]
  },
  {
   "attachments": {},
   "cell_type": "markdown",
   "metadata": {},
   "source": [
    "Let's say we wanted to visualise the closing prices of all the stocks in our data set. Reshaping our **long** data to **wide** makes plotting *really* straightforward.\n",
    "\n",
    "*(Note this doesn't follow the best practice of using object oriented Matplotlib, but it's very cool)*"
   ]
  },
  {
   "cell_type": "code",
   "execution_count": null,
   "metadata": {
    "tags": [
     "hide"
    ]
   },
   "outputs": [],
   "source": [
    "pivot_df = df.pivot(index=\"datadate\", columns='tic', values='prccd')\n",
    "print(pivot_df)\n",
    "\n",
    "pivot_df.plot()\n",
    "plt.title('Closing Prices of All Stocks')\n",
    "plt.ylabel('Price')\n",
    "plt.show()"
   ]
  },
  {
   "attachments": {},
   "cell_type": "markdown",
   "metadata": {},
   "source": [
    "To understand the relationship between the daily returns of different stocks, we've can use a correlation matrix. After finding daily returns and calculating the correlation with `corr()`,  we can use `seaborn`'s `heatmap()` to visualise it.\n"
   ]
  },
  {
   "cell_type": "code",
   "execution_count": null,
   "metadata": {
    "tags": [
     "hide"
    ]
   },
   "outputs": [],
   "source": [
    "correlation_matrix = pivot_df.pct_change().corr()\n",
    "\n",
    "fig, ax = plt.subplots(figsize=(10,7))\n",
    "sns.heatmap(correlation_matrix, annot=False, cmap='coolwarm', ax=ax)\n",
    "ax.set_title('Correlation Matrix of Daily Returns')\n",
    "plt.show()"
   ]
  },
  {
   "attachments": {},
   "cell_type": "markdown",
   "metadata": {},
   "source": [
    "We create a regression plot for AAPL's volume traded versus its closing price. This can help visualise if there's any relationship between the returns of two companies. We use seaborn's regplot function which creates a scatter plot and fits a regression line.\n",
    "\n",
    "In simple regression, we consider two variables - independent (x) and dependent (y). A regression analysis helps us understand how the dependent variable changes with respect to the independent variable.\n"
   ]
  },
  {
   "cell_type": "code",
   "execution_count": null,
   "metadata": {
    "tags": [
     "hide"
    ]
   },
   "outputs": [],
   "source": [
    "returns_matrix = pivot_df.pct_change()\n",
    "\n",
    "fig, ax = plt.subplots(figsize=(10,7))\n",
    "sns.regplot(x=returns_matrix.MSFT, y=returns_matrix.CRM, ax=ax)\n",
    "ax.set_title('MSFT and Salesforce Regression Plot')\n",
    "ax.set_xlabel('MSFT')\n",
    "ax.set_ylabel('CRM')\n",
    "plt.show()"
   ]
  }
 ],
 "metadata": {
  "kernelspec": {
   "display_name": ".venv",
   "language": "python",
   "name": "python3"
  },
  "language_info": {
   "codemirror_mode": {
    "name": "ipython",
    "version": 3
   },
   "file_extension": ".py",
   "mimetype": "text/x-python",
   "name": "python",
   "nbconvert_exporter": "python",
   "pygments_lexer": "ipython3",
   "version": "3.12.4"
  },
  "orig_nbformat": 4
 },
 "nbformat": 4,
 "nbformat_minor": 2
}
