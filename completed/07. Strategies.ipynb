{
 "cells": [
  {
   "attachments": {},
   "cell_type": "markdown",
   "metadata": {},
   "source": [
    "# Trading Strategies\n",
    "\n",
    "Let's start with a classic and simple trading strategy: the moving average crossover. The idea behind this strategy is to buy a stock when its fast simple moving average (SMA) crosses above its slow SMA and to short it when the fast SMA crosses below the slow SMA.\n",
    "\n",
    "Let's start with our imports in the cell below, and preparing our data frame in the cell below that."
   ]
  },
  {
   "cell_type": "code",
   "execution_count": null,
   "metadata": {},
   "outputs": [],
   "source": [
    "import pandas as pd\n",
    "import numpy as np\n",
    "import matplotlib.pyplot as plt\n",
    "\n",
    "plt.style.use(\"ggplot\")"
   ]
  },
  {
   "cell_type": "markdown",
   "metadata": {},
   "source": [
    "This time we'll fetch our data directly from yfinance."
   ]
  },
  {
   "cell_type": "code",
   "execution_count": null,
   "metadata": {
    "tags": [
     "hide"
    ]
   },
   "outputs": [],
   "source": [
    "# import yfinance as yf\n",
    "\n",
    "# df = yf.download(\"JPM\",start=\"2020-01-01\", end=\"2023-06-30\")\n",
    "# df\n",
    "## The manual way\n",
    "df = pd.read_csv(\"https://raw.githubusercontent.com/ImperialCollegeLondon/efds-ta-python/refs/heads/main/data/JPM_data.csv\")\n",
    "df[\"Date\"] = pd.to_datetime(df[\"Date\"])\n",
    "df = df.set_index(\"Date\").sort_index().drop_duplicates()\n"
   ]
  },
  {
   "attachments": {},
   "cell_type": "markdown",
   "metadata": {},
   "source": [
    "## Compute and Plot SMAs\n",
    "\n",
    "Before we can implement our strategy, we need to calculate the fast (short-term) and slow (long-term) SMAs. For this example, we'll use 60-day and 80-day SMAs."
   ]
  },
  {
   "cell_type": "code",
   "execution_count": null,
   "metadata": {
    "tags": [
     "hide"
    ]
   },
   "outputs": [],
   "source": [
    "fast = 60\n",
    "slow =  80\n",
    "\n",
    "df[\"FastSMA\"] = df.Close.rolling(window=fast).mean()\n",
    "df[\"SlowSMA\"] = df.Close.rolling(window=slow).mean()\n",
    "df"
   ]
  },
  {
   "attachments": {},
   "cell_type": "markdown",
   "metadata": {},
   "source": [
    "\n",
    "Remember we'll have a window-length of NaNs in our data frame. This is because we don't have enough data points to calculate an N-day moving average until the Nth day. \n",
    "Let's plot the closing price with the SMAs to visually inspect the crossover points."
   ]
  },
  {
   "cell_type": "code",
   "execution_count": null,
   "metadata": {
    "tags": [
     "hide"
    ]
   },
   "outputs": [],
   "source": [
    "plt.figure(figsize=(14, 7))\n",
    "plt.plot(df.Close, label='Close Price')\n",
    "\n",
    "# There are some ideas about colours of lines\n",
    "# eye-catching for the fast, and more mellow for the slow\n",
    "plt.plot(df.SlowSMA, label=f\"{slow}-day SMA\", color=\"darkseagreen\")\n",
    "plt.plot(df.FastSMA, label=f\"{fast}-day SMA\", color=\"yellow\")\n",
    "plt.legend()\n",
    "plt.title('Close Price with SMAs')\n",
    "plt.show()"
   ]
  },
  {
   "attachments": {},
   "cell_type": "markdown",
   "metadata": {},
   "source": [
    "## Signals\n",
    "\n",
    "To apply our strategy to the data, we will create a `Signal` column which will contain 1 for buy signals (when the fast SMA is above the slow SMA) and -1 for sell signals. Because we are in a *wait* position while we *wait* for the slow SMA to kick-in, we'll fill the Signal column with 0 for those rows. We'll use `where()` for both of these."
   ]
  },
  {
   "cell_type": "code",
   "execution_count": null,
   "metadata": {
    "tags": [
     "hide"
    ]
   },
   "outputs": [],
   "source": [
    "# Initialise signal column with zeros\n",
    "df['Signal'] = 0\n",
    "\n",
    "# Generate Buy Signal: FastSMA is above the Slow\n",
    "df[\"Signal\"] = np.where(df.FastSMA > df.SlowSMA, 1, df.Signal)\n",
    "\n",
    "# Generate Sell Signal: FastSMA is below the Slow\n",
    "df[\"Signal\"] = np.where(df.FastSMA < df.SlowSMA, -1, df.Signal)\n",
    "\n",
    "df.Signal.value_counts()\n",
    "df[slow -1:]"
   ]
  },
  {
   "attachments": {},
   "cell_type": "markdown",
   "metadata": {},
   "source": [
    "### Exercise: Blink and you'll miss it\n",
    "\n",
    "Can you identify on which dates we had a crossover?"
   ]
  },
  {
   "cell_type": "code",
   "execution_count": null,
   "metadata": {
    "tags": [
     "todo"
    ]
   },
   "outputs": [],
   "source": []
  },
  {
   "attachments": {},
   "cell_type": "markdown",
   "metadata": {},
   "source": [
    "## Backtesting\n",
    "\n",
    "Backtesting is the process of testing a trading strategy on relevant historical data. We can calculate how it would have performed, had it been applied in the past. The simplest backtest calculates the returns that would have been realised if the strategy was implemented.\n",
    "\n",
    "First, we create a new column with the signal from the previous day. When we backtest, we have to imagine we're trading in real time. Since our signals are based on close prices, we won't be able to act on them until the following day when the market re-opens. Failing to do this is called *look-ahead bias*."
   ]
  },
  {
   "cell_type": "code",
   "execution_count": null,
   "metadata": {
    "tags": [
     "hide"
    ]
   },
   "outputs": [],
   "source": [
    "# Take a look at the day we generated the buy signal\n",
    "# When could we have acted on it?\n",
    "print(df.loc[\"2020-09-15\":\"2020-09-20\"])\n",
    "\n",
    "# Shift down to avoid look-ahead bias\n",
    "df['Position'] = df.Signal.shift(1)\n",
    "df"
   ]
  },
  {
   "attachments": {},
   "cell_type": "markdown",
   "metadata": {},
   "source": [
    "Next we calculate the market daily returns normally using `pct_change()`. We then calculate our strategy returns by multiplying our buy/sell position with the market returns. Here is how it works:\n",
    "\n",
    "- On days when the market gains (+ market return)\n",
    "    - In the buy position (+) , our strategy gains\n",
    "    - In the sell position (-), our strategy loses\n",
    "- On days when the market loses (- market return)\n",
    "    - In the buy position (+), our strategy loses\n",
    "    - In the sell position (-), our strategy gains"
   ]
  },
  {
   "cell_type": "code",
   "execution_count": null,
   "metadata": {
    "tags": [
     "hide"
    ]
   },
   "outputs": [],
   "source": [
    "# Calculating the daily market return (or a buy and hold strategy)\n",
    "df[\"MarketDaily\"] = df.Close.pct_change()\n",
    "df[\"MarketDaily\"] = np.where(df.SlowSMA.isna(), 0, df.MarketDaily)\n",
    "\n",
    "# Calculating the daily return of our crossover strategy\n",
    "df[\"StrategyDaily\"] = df.Position * df.MarketDaily\n",
    "\n",
    "df"
   ]
  },
  {
   "attachments": {},
   "cell_type": "markdown",
   "metadata": {},
   "source": [
    "To determine if our strategy would profit or lose, we can calculate the cumulative returns of our strategy for the period. We can then compare it to a *buy & hold* strategy (where we buy at the start of the period and sell at the end), which is represented as the cumulative market returns."
   ]
  },
  {
   "cell_type": "code",
   "execution_count": null,
   "metadata": {
    "tags": [
     "hide"
    ]
   },
   "outputs": [],
   "source": [
    "df[\"MarketReturn\"] = (1 + df.MarketDaily).cumprod() - 1\n",
    "df[\"StrategyReturn\"] = (1 + df.StrategyDaily).cumprod() - 1\n",
    "\n",
    "df.tail()"
   ]
  },
  {
   "attachments": {},
   "cell_type": "markdown",
   "metadata": {},
   "source": [
    "Let's plot these for a visual representation."
   ]
  },
  {
   "cell_type": "code",
   "execution_count": null,
   "metadata": {
    "tags": [
     "hide"
    ]
   },
   "outputs": [],
   "source": [
    "plt.figure(figsize=(10, 5))\n",
    "plt.plot(df.MarketReturn, label=\"Market Returns\")\n",
    "plt.plot(df.StrategyReturn, label=\"Strategy Returns\")\n",
    "plt.legend()\n",
    "plt.title(\"Cumulative Returns of Market vs Strategy\")\n",
    "plt.show()"
   ]
  },
  {
   "cell_type": "markdown",
   "metadata": {},
   "source": [
    "### Exercise: BB Breakout\n",
    "\n",
    "Implement an Bollinger Bands Breakout strategy and backtest it on JPM.\n",
    "\n",
    "- First create high and low Bollinger Bands as usual\n",
    "- Then generate signals as follows:\n",
    "  - Buy (+1) when the close price crosses above the upper band\n",
    "    - Hold the position until a signal change\n",
    "  - Sell (-1) when the close price crosses under the lower band\n",
    "    - Hold the position until a signal change\n",
    "- Generate positions\n",
    "- Calculate the strategy returns and cumulative strategy returns\n",
    "- Report and plot the cumulative strategy and market returns\n",
    "\n",
    "**HINT** You can create an empty column by assigning it `np.nan` and propagate a value forwards with `ffill()`."
   ]
  },
  {
   "cell_type": "code",
   "execution_count": null,
   "metadata": {},
   "outputs": [],
   "source": []
  }
 ],
 "metadata": {
  "kernelspec": {
   "display_name": ".venv",
   "language": "python",
   "name": "python3"
  },
  "language_info": {
   "codemirror_mode": {
    "name": "ipython",
    "version": 3
   },
   "file_extension": ".py",
   "mimetype": "text/x-python",
   "name": "python",
   "nbconvert_exporter": "python",
   "pygments_lexer": "ipython3",
   "version": "3.12.4"
  },
  "orig_nbformat": 4
 },
 "nbformat": 4,
 "nbformat_minor": 2
}
