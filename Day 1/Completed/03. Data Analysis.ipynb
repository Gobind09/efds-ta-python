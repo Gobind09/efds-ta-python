{
 "cells": [
  {
   "attachments": {},
   "cell_type": "markdown",
   "metadata": {},
   "source": [
    "# Data Analysis\n",
    "\n",
    "Now that we've got clean data, let's start with some basic financial analysis.\n",
    "\n",
    "First, let's load our CSV file into a DataFrame, covert our dates, set the index, and check for duplicated rows or missing values."
   ]
  },
  {
   "cell_type": "code",
   "execution_count": null,
   "metadata": {
    "tags": [
     "hide"
    ]
   },
   "outputs": [],
   "source": [
    "import pandas as pd\n",
    "\n",
    "#url = \"https://raw.githubusercontent.com/ImperialCollegeLondon/efds-ta-python/main/data/AAPL_2021_clean.csv\"\n",
    "#df = pd.read_csv(url)\n",
    "\n",
    "df = pd.read_csv(\"AAPL_2021_clean.csv\")\n",
    "df[\"Date\"] = pd.to_datetime(df[\"Date\"])\n",
    "df.set_index(\"Date\", inplace=True)\n",
    "\n",
    "print(\"Duplicates:\", df.duplicated().sum())\n",
    "print(\"Missing:\", df.isnull().sum())"
   ]
  },
  {
   "attachments": {},
   "cell_type": "markdown",
   "metadata": {},
   "source": [
    "## Returns\n",
    "\n",
    "Returns refer to the gain or loss made on an initial investment, often expressed as a percentage. We can use the generic **percentage change** formula here:\n",
    "\n",
    "$$ (price_{end} - price_{start}) / price_{start} $$\n",
    "\n",
    "We can apply this to close prices to calculate the simple daily return:\n",
    "\n",
    "$$ (close price_{today} - close price_{yesterday}) / close price_{yesterday} $$\n",
    "\n",
    "When available, use the Adjusted Close price, which takes into account corporate actions (dividends for example)."
   ]
  },
  {
   "cell_type": "code",
   "execution_count": null,
   "metadata": {
    "tags": [
     "hide"
    ]
   },
   "outputs": [],
   "source": [
    "aug18_closing = df.loc[\"2021-08-18\", \"Adj Close\"]\n",
    "aug17_closing = df.loc[\"2021-08-17\", \"Adj Close\"]\n",
    "\n",
    "aug18_return = (aug18_closing - aug17_closing) / aug17_closing\n",
    "print(aug18_return)"
   ]
  },
  {
   "attachments": {},
   "cell_type": "markdown",
   "metadata": {},
   "source": [
    "This simple daily return expresses a loss in value of 2.5%\n",
    "\n",
    "If we wanted to use the above approach to calculate daily returns for each day in our data set, it would take a long time. Let's see how we can use pandas `pct_change()` to make this sort of work easy, by applying our percentage change formula one column at a time."
   ]
  },
  {
   "cell_type": "code",
   "execution_count": null,
   "metadata": {
    "tags": [
     "hide"
    ]
   },
   "outputs": [],
   "source": [
    "# Create a new column and populate it with daily returns\n",
    "df['Daily Return'] = df['Adj Close'].pct_change()\n",
    "df"
   ]
  },
  {
   "attachments": {},
   "cell_type": "markdown",
   "metadata": {},
   "source": [
    "Notice how the first row in our data has a missing value **NaN** in the new daily return column. This is because our data doesn't have a close price for the day before it!\n",
    "\n",
    "What to do with this missing value depends on what further analysis we want to do. If we want to carry out simple descriptive statistics like compute the mean, max, or standard deviation,  we can leave our missing value as NaN, because pandas will by default ignore NaNs when calculating these."
   ]
  },
  {
   "cell_type": "code",
   "execution_count": null,
   "metadata": {
    "tags": [
     "hide"
    ]
   },
   "outputs": [],
   "source": [
    "print(\"Average daily return:\", df[\"Daily Return\"].mean())\n",
    "\n",
    "print(\"Highest daily return:\", df[\"Daily Return\"].max())\n",
    "\n",
    "print(\"Standard Deviation:\", df[\"Daily Return\"].std())"
   ]
  },
  {
   "attachments": {},
   "cell_type": "markdown",
   "metadata": {},
   "source": [
    "For more complex analyses though, we may want to drop or fill this value. Let's calculate cumulative returns for the period. Instead of comparing a given day with the day before it, cumulative returns compare a given day with the first day of the period, to indicate how our stock has performed since our initial investment.\n",
    "\n",
    "We generally fill missing daily returns with a 0, which indicates no change with the day before.\n",
    "\n",
    "Because we're doing cumulative multiplication, we'll add 1 to the adjusted closing price, so we can compound the return over time."
   ]
  },
  {
   "cell_type": "code",
   "execution_count": null,
   "metadata": {
    "tags": [
     "hide"
    ]
   },
   "outputs": [],
   "source": [
    "df[\"Daily Return\"] = df[\"Daily Return\"].fillna(0)\n",
    "\n",
    "df[\"Cumulative Return\"] = (1 + df[\"Daily Return\"]).cumprod()\n",
    "\n",
    "df"
   ]
  },
  {
   "attachments": {},
   "cell_type": "markdown",
   "metadata": {},
   "source": [
    "### Exercise 4\n",
    "\n",
    "Calculate the daily change in trading volume for this stock, and then calculate the mean change in trading volume over the period. Take the same approach we used for calculating daily returns, but consider volume instead of the adjusted close price.\n",
    "\n",
    "Then determine the trend in AAPL's stock this year:\n",
    "\n",
    "- Rising volume and increasing price might indicate a **bullish** trend (where the uptrend is backed by strong demand and could continue).\n",
    "\n",
    "- Rising volume and decreasing price might indicate a **bearish** trend (where the downtrend is backed by strong selling pressure and could continue).\n",
    "\n",
    "- Falling volume on price increase or decrease often indicate a trend is losing strength. It might suggest that momentum is waning and a price reversal is coming."
   ]
  },
  {
   "cell_type": "code",
   "execution_count": null,
   "metadata": {
    "tags": [
     "todo"
    ]
   },
   "outputs": [],
   "source": [
    "## YOUR CODE GOES HERE"
   ]
  },
  {
   "attachments": {},
   "cell_type": "markdown",
   "metadata": {},
   "source": [
    "## Surges\n",
    "\n",
    "Surges in price or trading volume can be helpful indicators for traders. We usually define a surge as an increase on the day before by an amount higher than some defined threshold. A common threshold is two standard deviations above the mean. Let's look at price surges."
   ]
  },
  {
   "cell_type": "code",
   "execution_count": 16,
   "metadata": {
    "tags": [
     "hide"
    ]
   },
   "outputs": [
    {
     "data": {
      "text/html": [
       "<div>\n",
       "<style scoped>\n",
       "    .dataframe tbody tr th:only-of-type {\n",
       "        vertical-align: middle;\n",
       "    }\n",
       "\n",
       "    .dataframe tbody tr th {\n",
       "        vertical-align: top;\n",
       "    }\n",
       "\n",
       "    .dataframe thead th {\n",
       "        text-align: right;\n",
       "    }\n",
       "</style>\n",
       "<table border=\"1\" class=\"dataframe\">\n",
       "  <thead>\n",
       "    <tr style=\"text-align: right;\">\n",
       "      <th></th>\n",
       "      <th>Open</th>\n",
       "      <th>High</th>\n",
       "      <th>Low</th>\n",
       "      <th>Close</th>\n",
       "      <th>Adj Close</th>\n",
       "      <th>Volume</th>\n",
       "      <th>Daily Return</th>\n",
       "      <th>Cumulative Return</th>\n",
       "      <th>20-day MA</th>\n",
       "      <th>200-day MA</th>\n",
       "      <th>20-day SD</th>\n",
       "      <th>colour</th>\n",
       "    </tr>\n",
       "    <tr>\n",
       "      <th>Date</th>\n",
       "      <th></th>\n",
       "      <th></th>\n",
       "      <th></th>\n",
       "      <th></th>\n",
       "      <th></th>\n",
       "      <th></th>\n",
       "      <th></th>\n",
       "      <th></th>\n",
       "      <th></th>\n",
       "      <th></th>\n",
       "      <th></th>\n",
       "      <th></th>\n",
       "    </tr>\n",
       "  </thead>\n",
       "  <tbody>\n",
       "    <tr>\n",
       "      <th>2021-01-20</th>\n",
       "      <td>128.660004</td>\n",
       "      <td>132.490005</td>\n",
       "      <td>128.550003</td>\n",
       "      <td>132.029999</td>\n",
       "      <td>130.085037</td>\n",
       "      <td>104319500</td>\n",
       "      <td>0.032856</td>\n",
       "      <td>1.020246</td>\n",
       "      <td>NaN</td>\n",
       "      <td>NaN</td>\n",
       "      <td>NaN</td>\n",
       "      <td>green</td>\n",
       "    </tr>\n",
       "    <tr>\n",
       "      <th>2021-01-21</th>\n",
       "      <td>133.800003</td>\n",
       "      <td>139.669998</td>\n",
       "      <td>133.589996</td>\n",
       "      <td>136.869995</td>\n",
       "      <td>134.853760</td>\n",
       "      <td>120150900</td>\n",
       "      <td>0.036659</td>\n",
       "      <td>1.057646</td>\n",
       "      <td>NaN</td>\n",
       "      <td>NaN</td>\n",
       "      <td>NaN</td>\n",
       "      <td>green</td>\n",
       "    </tr>\n",
       "    <tr>\n",
       "      <th>2021-03-01</th>\n",
       "      <td>123.750000</td>\n",
       "      <td>127.930000</td>\n",
       "      <td>122.790001</td>\n",
       "      <td>127.790001</td>\n",
       "      <td>126.095642</td>\n",
       "      <td>116307900</td>\n",
       "      <td>0.053851</td>\n",
       "      <td>0.988957</td>\n",
       "      <td>129.563227</td>\n",
       "      <td>NaN</td>\n",
       "      <td>5.122339</td>\n",
       "      <td>green</td>\n",
       "    </tr>\n",
       "    <tr>\n",
       "      <th>2021-03-09</th>\n",
       "      <td>119.029999</td>\n",
       "      <td>122.059998</td>\n",
       "      <td>118.790001</td>\n",
       "      <td>121.089996</td>\n",
       "      <td>119.484489</td>\n",
       "      <td>129525800</td>\n",
       "      <td>0.040650</td>\n",
       "      <td>0.937107</td>\n",
       "      <td>125.263821</td>\n",
       "      <td>NaN</td>\n",
       "      <td>5.926654</td>\n",
       "      <td>green</td>\n",
       "    </tr>\n",
       "    <tr>\n",
       "      <th>2021-12-07</th>\n",
       "      <td>169.080002</td>\n",
       "      <td>171.580002</td>\n",
       "      <td>168.339996</td>\n",
       "      <td>171.179993</td>\n",
       "      <td>169.698044</td>\n",
       "      <td>120405400</td>\n",
       "      <td>0.035446</td>\n",
       "      <td>1.330927</td>\n",
       "      <td>156.785328</td>\n",
       "      <td>137.846085</td>\n",
       "      <td>6.733253</td>\n",
       "      <td>green</td>\n",
       "    </tr>\n",
       "  </tbody>\n",
       "</table>\n",
       "</div>"
      ],
      "text/plain": [
       "                  Open        High         Low       Close   Adj Close  \\\n",
       "Date                                                                     \n",
       "2021-01-20  128.660004  132.490005  128.550003  132.029999  130.085037   \n",
       "2021-01-21  133.800003  139.669998  133.589996  136.869995  134.853760   \n",
       "2021-03-01  123.750000  127.930000  122.790001  127.790001  126.095642   \n",
       "2021-03-09  119.029999  122.059998  118.790001  121.089996  119.484489   \n",
       "2021-12-07  169.080002  171.580002  168.339996  171.179993  169.698044   \n",
       "\n",
       "               Volume  Daily Return  Cumulative Return   20-day MA  \\\n",
       "Date                                                                 \n",
       "2021-01-20  104319500      0.032856           1.020246         NaN   \n",
       "2021-01-21  120150900      0.036659           1.057646         NaN   \n",
       "2021-03-01  116307900      0.053851           0.988957  129.563227   \n",
       "2021-03-09  129525800      0.040650           0.937107  125.263821   \n",
       "2021-12-07  120405400      0.035446           1.330927  156.785328   \n",
       "\n",
       "            200-day MA  20-day SD colour  \n",
       "Date                                      \n",
       "2021-01-20         NaN        NaN  green  \n",
       "2021-01-21         NaN        NaN  green  \n",
       "2021-03-01         NaN   5.122339  green  \n",
       "2021-03-09         NaN   5.926654  green  \n",
       "2021-12-07  137.846085   6.733253  green  "
      ]
     },
     "execution_count": 16,
     "metadata": {},
     "output_type": "execute_result"
    }
   ],
   "source": [
    "# Find the mean return\n",
    "mean_return = df[\"Daily Return\"].mean()\n",
    "\n",
    "# Define a threshold as two standard deviations above the mean\n",
    "return_threshold = mean_return + (df[\"Daily Return\"].std() * 2)\n",
    "\n",
    "# Define a condition\n",
    "condition = df[\"Daily Return\"] > return_threshold\n",
    "\n",
    "# Subset the dataframe where daily returns are higher than the threshold\n",
    "df[condition]"
   ]
  },
  {
   "attachments": {},
   "cell_type": "markdown",
   "metadata": {},
   "source": [
    "## Moving Averages\n",
    "\n",
    "Moving averages are a different kind of indicator, one that smooths out small variations in trading data to give a better picture of the overall trend.\n",
    "\n",
    "A Simple Moving Average (SMA) is one which averages out a price over a specific period. The average is \"moving\" because when a new day is considered in the period, the oldest date is discarded.\n",
    "\n",
    "Moving averages can be *fast*, when they cover a short period, or *slow* when they consider a longer period. The longer the period, the more those small variations are smoothed out."
   ]
  },
  {
   "cell_type": "code",
   "execution_count": null,
   "metadata": {
    "tags": [
     "hide"
    ]
   },
   "outputs": [],
   "source": [
    "# Calculate a fast, 20-Day Moving Average\n",
    "df['20-day MA'] = df['Adj Close'].rolling(window=20).mean()\n",
    "\n",
    "# Calculate a slow, 200-Day Moving Average\n",
    "df['200-day MA'] = df['Adj Close'].rolling(window=200).mean()"
   ]
  },
  {
   "attachments": {},
   "cell_type": "markdown",
   "metadata": {},
   "source": [
    "## Volatility\n",
    "\n",
    "Volatility looks at the degree of variance in a stock, and can be helpful for determining risk. Periods of high standard deviation indicate higher volatility and may suggest a riskier investment.\n"
   ]
  },
  {
   "cell_type": "code",
   "execution_count": null,
   "metadata": {
    "tags": [
     "hide"
    ]
   },
   "outputs": [],
   "source": [
    "# Calculate 20-Day Standard Deviation\n",
    "df['20-day SD'] = df['Adj Close'].rolling(window=20).std()\n",
    "df"
   ]
  },
  {
   "cell_type": "markdown",
   "metadata": {},
   "source": [
    "## Other useful functions\n",
    "\n",
    "Another useful package in data science is NumPy. It actually powers alot of the work that pandas does, so technically, you've already used it!\n",
    "\n",
    "One useful function is `np.where()`, often used for populating columns with a signal or indicator, depending on if a condition is met. Let's create a column to colour code our trading days. Days will have a different colour depening on if the market closes higher (green) or lower (red) than the opening."
   ]
  },
  {
   "cell_type": "code",
   "execution_count": null,
   "metadata": {},
   "outputs": [],
   "source": [
    "import numpy as np\n",
    "\n",
    "df[\"colour\"] = np.where(df[\"Close\"] > df[\"Open\"], \"green\", \"red\")\n",
    "df"
   ]
  }
 ],
 "metadata": {
  "kernelspec": {
   "display_name": "base",
   "language": "python",
   "name": "python3"
  },
  "language_info": {
   "codemirror_mode": {
    "name": "ipython",
    "version": 3
   },
   "file_extension": ".py",
   "mimetype": "text/x-python",
   "name": "python",
   "nbconvert_exporter": "python",
   "pygments_lexer": "ipython3",
   "version": "3.11.5"
  },
  "orig_nbformat": 4
 },
 "nbformat": 4,
 "nbformat_minor": 2
}
