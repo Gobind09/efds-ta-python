{
 "cells": [
  {
   "attachments": {},
   "cell_type": "markdown",
   "metadata": {},
   "source": [
    "# Introduction to Time Series Data\n",
    "\n",
    "Data can come in many different formats, and many differentshapes and sizes. You've maybe heard of tabular data, a format you may be familiar with from working in something like Excel. \n",
    "\n",
    "We will explore two main kinds of tabular data in this module. The first is time series data. Time series data will be *indexed* with a date and time. We'll look a bit more closely at that soon, but for now just think of it as each row having a date or time, rather than a row number."
   ]
  },
  {
   "attachments": {},
   "cell_type": "markdown",
   "metadata": {},
   "source": [
    "## Loading Data\n",
    "\n",
    "One of the most popular packages in Python for working with tabular data is called Pandas. Today we'll get acquainted with Pandas.\n",
    "\n",
    "The first thing we'll do is `import` the `pandas` package. Convention has us use a shortform name - `pd` - because we'll be using the package so often."
   ]
  },
  {
   "cell_type": "code",
   "execution_count": 1,
   "metadata": {
    "tags": [
     "hide"
    ]
   },
   "outputs": [],
   "source": [
    "import pandas as pd"
   ]
  },
  {
   "attachments": {},
   "cell_type": "markdown",
   "metadata": {},
   "source": [
    "And below we'll use pandas' `read_csv()` to load the data into a `DataFrame`. DataFrames are the main data structure in pandas for tabular data, and lots of other programming languages use the concept of a DataFrame too! By convention, you'll often see `df` used as a variable name."
   ]
  },
  {
   "cell_type": "code",
   "execution_count": 2,
   "metadata": {
    "tags": [
     "hide"
    ]
   },
   "outputs": [],
   "source": [
    "# Load the data\n",
    "url = \"https://raw.githubusercontent.com/ImperialCollegeLondon/efds-ta-python/main/data/AAPL_2020.csv\"\n",
    "df = pd.read_csv(url)"
   ]
  },
  {
   "attachments": {},
   "cell_type": "markdown",
   "metadata": {},
   "source": [
    "Before we do anything else, it's a good idea to take a look at the DataFrame. Some methods will let us take a closer look at parts of our data. "
   ]
  },
  {
   "cell_type": "code",
   "execution_count": 3,
   "metadata": {
    "tags": [
     "hide"
    ]
   },
   "outputs": [
    {
     "name": "stdout",
     "output_type": "stream",
     "text": [
      "         Date       Open       High        Low      Close  Adj Close  \\\n",
      "0  2020-01-02  74.059998  75.150002  73.797501  75.087502  73.347923   \n",
      "1  2020-01-03  74.287498  75.144997  74.125000  74.357498  72.634850   \n",
      "2  2020-01-06  73.447502  74.989998  73.187500  74.949997  73.213615   \n",
      "3  2020-01-07  74.959999  75.224998  74.370003  74.597504  72.869278   \n",
      "4  2020-01-08  74.290001  76.110001  74.290001  75.797501  74.041489   \n",
      "\n",
      "      Volume  \n",
      "0  135480400  \n",
      "1  146322800  \n",
      "2  118387200  \n",
      "3  108872000  \n",
      "4  132079200  \n",
      "           Date        Open        High         Low       Close   Adj Close  \\\n",
      "237  2020-12-09  124.529999  125.949997  121.000000  121.779999  119.986038   \n",
      "238  2020-12-10  120.500000  123.870003  120.150002  123.239998  121.424522   \n",
      "239  2020-12-11  122.430000  122.760002  120.550003  122.410004  120.606758   \n",
      "240  2020-12-14  122.599998  123.349998  121.540001  121.779999  119.986038   \n",
      "241  2020-12-15  124.339996  127.900002  124.129997  127.879997  125.996178   \n",
      "242  2020-12-16  127.410004  128.369995  126.559998  127.809998  125.927216   \n",
      "243  2020-12-17  128.899994  129.580002  128.039993  128.699997  126.804100   \n",
      "244  2020-12-18  128.960007  129.100006  126.120003  126.660004  124.794151   \n",
      "245  2020-12-21  125.019997  128.309998  123.449997  128.229996  126.341011   \n",
      "246  2020-12-22  131.610001  134.410004  129.649994  131.880005  129.937271   \n",
      "247  2020-12-23  132.160004  132.429993  130.779999  130.960007  129.030792   \n",
      "248  2020-12-24  131.320007  133.460007  131.100006  131.970001  130.025925   \n",
      "249  2020-12-28  133.990005  137.339996  133.509995  136.690002  134.676407   \n",
      "250  2020-12-29  138.050003  138.789993  134.339996  134.869995  132.883194   \n",
      "251  2020-12-30  135.580002  135.990005  133.399994  133.720001  131.750137   \n",
      "\n",
      "        Volume  \n",
      "237  115089200  \n",
      "238   81312200  \n",
      "239   86939800  \n",
      "240   79184500  \n",
      "241  157243700  \n",
      "242   98208600  \n",
      "243   94359800  \n",
      "244  192541500  \n",
      "245  121251600  \n",
      "246  168904800  \n",
      "247   88223700  \n",
      "248   54930100  \n",
      "249  124486200  \n",
      "250  121047300  \n",
      "251   96452100  \n"
     ]
    }
   ],
   "source": [
    "# Print the first five rows\n",
    "print(df.head())\n",
    "\n",
    "# Print the last 15 rows\n",
    "print(df.tail(15))\n"
   ]
  },
  {
   "attachments": {},
   "cell_type": "markdown",
   "metadata": {},
   "source": [
    "Other methods and attributes can give us an overview, and give us further insights to our data in general. `shape()` will tell us the number of rows and columns in our data frame, while `info()` will give us some info on the data type (`dtype`) of each column.\n",
    "\n",
    "You'll notice the types are slightly different from the usual Python types - this is because they belong to the `numpy` package, which sits under the hood of `pandas`. We'll look more at `numpy` tomorrow, but for now here is a word about each of the types in our data frame.\n",
    "\n",
    "- `float64` - 64-bit floating point (number with a decimal point)\n",
    "- `int64` - 64-bit integer (whole number)\n",
    "- `object` - other Python data types (strings in this case)"
   ]
  },
  {
   "cell_type": "code",
   "execution_count": 4,
   "metadata": {
    "tags": [
     "hide"
    ]
   },
   "outputs": [
    {
     "name": "stdout",
     "output_type": "stream",
     "text": [
      "Rows and columns:  (252, 7)\n",
      "Info\n",
      "<class 'pandas.core.frame.DataFrame'>\n",
      "RangeIndex: 252 entries, 0 to 251\n",
      "Data columns (total 7 columns):\n",
      " #   Column     Non-Null Count  Dtype  \n",
      "---  ------     --------------  -----  \n",
      " 0   Date       252 non-null    object \n",
      " 1   Open       252 non-null    float64\n",
      " 2   High       252 non-null    float64\n",
      " 3   Low        252 non-null    float64\n",
      " 4   Close      252 non-null    float64\n",
      " 5   Adj Close  252 non-null    float64\n",
      " 6   Volume     252 non-null    int64  \n",
      "dtypes: float64(5), int64(1), object(1)\n",
      "memory usage: 13.9+ KB\n",
      "None\n"
     ]
    }
   ],
   "source": [
    "# Print rows and columns\n",
    "print(\"Rows and columns: \", df.shape)\n",
    "\n",
    "# Print summary info\n",
    "print(\"Info\")\n",
    "print(df.info())\n"
   ]
  },
  {
   "attachments": {},
   "cell_type": "markdown",
   "metadata": {},
   "source": [
    "For a look at some actual data within the data frame, we can use square bracket notation and `iloc` to access columns and rows."
   ]
  },
  {
   "cell_type": "code",
   "execution_count": 5,
   "metadata": {
    "tags": [
     "hide"
    ]
   },
   "outputs": [
    {
     "name": "stdout",
     "output_type": "stream",
     "text": [
      "0       75.087502\n",
      "1       74.357498\n",
      "2       74.949997\n",
      "3       74.597504\n",
      "4       75.797501\n",
      "          ...    \n",
      "247    130.960007\n",
      "248    131.970001\n",
      "249    136.690002\n",
      "250    134.869995\n",
      "251    133.720001\n",
      "Name: Close, Length: 252, dtype: float64\n",
      "           Open       Close\n",
      "0     74.059998   75.087502\n",
      "1     74.287498   74.357498\n",
      "2     73.447502   74.949997\n",
      "3     74.959999   74.597504\n",
      "4     74.290001   75.797501\n",
      "..          ...         ...\n",
      "247  132.160004  130.960007\n",
      "248  131.320007  131.970001\n",
      "249  133.990005  136.690002\n",
      "250  138.050003  134.869995\n",
      "251  135.580002  133.720001\n",
      "\n",
      "[252 rows x 2 columns]\n",
      "           Date        Open   High       Low     Close   Adj Close     Volume\n",
      "158  2020-08-18  114.352501  116.0  114.0075  115.5625  113.664024  105633600\n",
      "Date         2020-01-02\n",
      "Open          74.059998\n",
      "High          75.150002\n",
      "Low           73.797501\n",
      "Close         75.087502\n",
      "Adj Close     73.347923\n",
      "Volume        135480400\n",
      "Name: 0, dtype: object\n",
      "78.875\n"
     ]
    }
   ],
   "source": [
    "# Access a column\n",
    "print(df[\"Close\"])\n",
    "\n",
    "# Access multiple columns\n",
    "print(df[[\"Open\", \"Close\"]])\n",
    "\n",
    "# Access a row\n",
    "print(df[df[\"Date\"] == \"2020-08-18\"])\n",
    "\n",
    "# Access the first row\n",
    "print(df.iloc[0])\n",
    "\n",
    "# Access the tenth row and the third column\n",
    "print(df.iloc[9, 2])\n"
   ]
  },
  {
   "attachments": {},
   "cell_type": "markdown",
   "metadata": {},
   "source": [
    "## Setting the Index\n",
    "\n",
    "In a DataFrame, each row is assigned a unique index value. By default, this is just a number (starting at 0). When it makes sense, we can choose one of the other columns to be an index. For time series data, where each row represents a different point in time, we'll set our `Date` column as the index. This will make it easier for us to work with the data, and can speed up other operations later on.\n"
   ]
  },
  {
   "cell_type": "code",
   "execution_count": 6,
   "metadata": {
    "tags": [
     "hide"
    ]
   },
   "outputs": [],
   "source": [
    "# Convert the 'Date' column to a datetime object\n",
    "df['Date'] = pd.to_datetime(df['Date'])\n",
    "\n",
    "# Set the 'Date' column as the index\n",
    "df.set_index('Date', inplace=True)"
   ]
  },
  {
   "attachments": {},
   "cell_type": "markdown",
   "metadata": {},
   "source": [
    "We convert the 'Date' column to a datetime object because pandas can recognise and efficiently work with datetime objects. We set the `Date` column as the index because in time-series data like ours, operations are time-based."
   ]
  },
  {
   "attachments": {},
   "cell_type": "markdown",
   "metadata": {},
   "source": [
    "With the index set, we can now use it to access different portions of our data a little bit more easily."
   ]
  },
  {
   "cell_type": "code",
   "execution_count": 7,
   "metadata": {
    "tags": [
     "hide"
    ]
   },
   "outputs": [
    {
     "name": "stdout",
     "output_type": "stream",
     "text": [
      "Open         1.143525e+02\n",
      "High         1.160000e+02\n",
      "Low          1.140075e+02\n",
      "Close        1.155625e+02\n",
      "Adj Close    1.136640e+02\n",
      "Volume       1.056336e+08\n",
      "Name: 2020-08-18 00:00:00, dtype: float64\n",
      "115.5625\n",
      "                  Open        High         Low       Close   Adj Close  \\\n",
      "Date                                                                     \n",
      "2020-08-18  114.352501  116.000000  114.007500  115.562500  113.664024   \n",
      "2020-08-19  115.982498  117.162498  115.610001  115.707497  113.806641   \n",
      "2020-08-20  115.750000  118.392502  115.732498  118.275002  116.331970   \n",
      "\n",
      "               Volume  \n",
      "Date                   \n",
      "2020-08-18  105633600  \n",
      "2020-08-19  145538000  \n",
      "2020-08-20  126907200  \n"
     ]
    }
   ],
   "source": [
    "# Access a row\n",
    "print(df.loc['2020-08-18'])\n",
    "\n",
    "# Access a specific cell\n",
    "print(df.loc['2020-08-18', 'Close'])\n",
    "\n",
    "# Access a range\n",
    "print(df.loc[\"2020-08-18\":\"2020-08-20\"])\n"
   ]
  },
  {
   "attachments": {},
   "cell_type": "markdown",
   "metadata": {},
   "source": [
    "## Basic Operations\n",
    "There are also many basic operations we can do with pandas, such as calculating the mean of a column, the maximum of a column, and so on.\n"
   ]
  },
  {
   "cell_type": "code",
   "execution_count": 8,
   "metadata": {
    "tags": [
     "hide"
    ]
   },
   "outputs": [
    {
     "name": "stdout",
     "output_type": "stream",
     "text": [
      "95.19888865758502\n",
      "426510000\n",
      "2020-02-28 00:00:00\n"
     ]
    }
   ],
   "source": [
    "# Calculate the mean of 'Close' prices\n",
    "print(df['Close'].mean())\n",
    "\n",
    "# Find the maximum volume traded\n",
    "print(df['Volume'].max())\n",
    "\n",
    "# Find the day that had the max volume traded\n",
    "print(df['Volume'].idxmax())"
   ]
  },
  {
   "attachments": {},
   "cell_type": "markdown",
   "metadata": {},
   "source": [
    "### Exercise 1\n",
    "\n",
    "Compare AAPL's *median* **high** in Q1 and Q2 of 2020. In which quarter was it higher? Use the cell below to show your work."
   ]
  },
  {
   "cell_type": "code",
   "execution_count": 9,
   "metadata": {
    "tags": [
     "todo"
    ]
   },
   "outputs": [],
   "source": [
    "## YOUR CODE GOES HERE"
   ]
  },
  {
   "cell_type": "markdown",
   "metadata": {},
   "source": [
    "### Exercise 2\n",
    "\n",
    "Looking only at the first 100 days of trading in the AAPL dataset, print the following information:\n",
    "\n",
    "* First opening price of the period\n",
    "* Last close price of the period\n",
    "* Total volume traded over the period"
   ]
  },
  {
   "cell_type": "code",
   "execution_count": 10,
   "metadata": {},
   "outputs": [],
   "source": [
    "## YOUR CODE GOES HERE"
   ]
  },
  {
   "attachments": {},
   "cell_type": "markdown",
   "metadata": {},
   "source": [
    "### (Optional) Exercise 3\n",
    "\n",
    "Run the cell below to create a new DataFrame with hourly trading info from a single day.\n",
    "\n",
    "Extend the code to compare the mean close price and trading volume in\n",
    "- the morning (up to and including 11:00)\n",
    "- the afternoon (from 12:00 onwards)\n",
    "\n",
    "**HINT** Instead of square brackets, use `between_time()` to slice."
   ]
  },
  {
   "cell_type": "code",
   "execution_count": 11,
   "metadata": {},
   "outputs": [],
   "source": [
    "data = {\n",
    "    'Time': ['2023-06-01 00:00:00', '2023-06-01 01:00:00', '2023-06-01 02:00:00', \n",
    "             '2023-06-01 03:00:00', '2023-06-01 04:00:00', '2023-06-01 05:00:00', \n",
    "             '2023-06-01 06:00:00', '2023-06-01 07:00:00', '2023-06-01 08:00:00', \n",
    "             '2023-06-01 09:00:00', '2023-06-01 10:00:00', '2023-06-01 11:00:00',\n",
    "             '2023-06-01 12:00:00', '2023-06-01 13:00:00', '2023-06-01 14:00:00',\n",
    "             '2023-06-01 15:00:00', '2023-06-01 16:00:00', '2023-06-01 17:00:00',\n",
    "             '2023-06-01 18:00:00', '2023-06-01 19:00:00', '2023-06-01 20:00:00',\n",
    "             '2023-06-01 21:00:00', '2023-06-01 22:00:00', '2023-06-01 23:00:00'],\n",
    "    'Close': [120, 121, 119, 119, 118, 119, 120, 121, 122, 123, 124, 125,\n",
    "              125, 126, 127, 128, 129, 130, 131, 132, 133, 134, 135, 136],\n",
    "    'Volume': [1000, 1050, 1075, 1100, 1125, 1150, 1200, 1250, 1300, 1350, \n",
    "               1400, 1450, 1500, 1550, 1600, 1650, 1700, 1750, 1800, 1850, \n",
    "               1900, 1950, 2000, 2050]\n",
    "}\n",
    "\n",
    "trading = pd.DataFrame(data) # Create a DataFrame \"literal\"\n",
    "\n",
    "## YOUR CODE GOES HERE"
   ]
  }
 ],
 "metadata": {
  "kernelspec": {
   "display_name": "base",
   "language": "python",
   "name": "python3"
  },
  "language_info": {
   "codemirror_mode": {
    "name": "ipython",
    "version": 3
   },
   "file_extension": ".py",
   "mimetype": "text/x-python",
   "name": "python",
   "nbconvert_exporter": "python",
   "pygments_lexer": "ipython3",
   "version": "3.11.5"
  },
  "orig_nbformat": 4
 },
 "nbformat": 4,
 "nbformat_minor": 2
}
