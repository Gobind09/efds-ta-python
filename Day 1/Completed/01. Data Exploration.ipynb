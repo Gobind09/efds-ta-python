{
 "cells": [
  {
   "cell_type": "markdown",
   "metadata": {},
   "source": [
    "# Introduction to Tabular Data: The Tips Dataset\n",
    "\n",
    "Data comes in many formats and shapes. In this module we will explore tabular data using the built-in tips dataset from Seaborn. Although the tips dataset is not a time series, many of the same techniques apply when inspecting and analysing your data."
   ]
  },
  {
   "cell_type": "markdown",
   "metadata": {},
   "source": [
    "## Loading Data\n",
    "\n",
    "One of the most popular packages in Python for working with tabular data is called Pandas. We will also use Seaborn to load the tips dataset. First, we `import` the required packages. Convention has us use the short name `pd` for pandas and `sns` for seaborn."
   ]
  },
  {
   "cell_type": "code",
   "execution_count": null,
   "metadata": {
    "tags": [
     "hide"
    ]
   },
   "outputs": [],
   "source": [
    "import pandas as pd\n",
    "import seaborn as sns"
   ]
  },
  {
   "cell_type": "markdown",
   "metadata": {},
   "source": [
    "Next we load the tips dataset using seaborn’s `load_dataset()` function. The data is returned as a DataFrame – the main data structure in pandas for working with tabular data."
   ]
  },
  {
   "cell_type": "code",
   "execution_count": null,
   "metadata": {
    "tags": [
     "hide"
    ]
   },
   "outputs": [],
   "source": [
    "# Load the tips dataset\n",
    "df = sns.load_dataset('tips')"
   ]
  },
  {
   "cell_type": "markdown",
   "metadata": {},
   "source": [
    "Before we do anything else, it's a good idea to inspect the DataFrame. We can use methods like `head()` and `tail()` to see the first and last few rows."
   ]
  },
  {
   "cell_type": "code",
   "execution_count": null,
   "metadata": {
    "tags": [
     "hide"
    ]
   },
   "outputs": [],
   "source": [
    "# Print the first five rows\n",
    "print(df.head())\n",
    "\n",
    "# Print the last five rows\n",
    "print(df.tail())"
   ]
  },
  {
   "cell_type": "markdown",
   "metadata": {},
   "source": [
    "Other methods and attributes can give us an overview of the DataFrame. For example, `shape` tells us the number of rows and columns, while `info()` provides the data types of each column."
   ]
  },
  {
   "cell_type": "code",
   "execution_count": null,
   "metadata": {
    "tags": [
     "hide"
    ]
   },
   "outputs": [],
   "source": [
    "# Print rows and columns\n",
    "print(\"Rows and columns:\", df.shape)\n",
    "\n",
    "# Print summary info\n",
    "print(\"Info\")\n",
    "print(df.info())"
   ]
  },
  {
   "cell_type": "markdown",
   "metadata": {},
   "source": [
    "For a closer look at the data, we can use square bracket notation or `iloc` to access specific columns and rows. For instance:"
   ]
  },
  {
   "cell_type": "code",
   "execution_count": null,
   "metadata": {
    "tags": [
     "hide"
    ]
   },
   "outputs": [],
   "source": [
    "# Access a single column (e.g. total_bill)\n",
    "print(df[\"total_bill\"])\n",
    "\n",
    "# Access multiple columns\n",
    "print(df[[\"total_bill\", \"tip\"]])\n",
    "\n",
    "# Access rows where the day is 'Fri'\n",
    "print(df[df[\"day\"] == \"Fri\"])\n",
    "\n",
    "# Access the first row\n",
    "print(df.iloc[0])\n",
    "\n",
    "# Access the fifth row and third column\n",
    "print(df.iloc[4, 2])"
   ]
  },
  {
   "cell_type": "markdown",
   "metadata": {},
   "source": [
    "## Basic Operations\n",
    "\n",
    "Pandas makes it easy to perform basic operations on our data. For example, we can calculate the `mean` of a column or the `max` of another. We have other aggregating methods available including `min`, `sum`, and `std` (standard deviation)."
   ]
  },
  {
   "cell_type": "code",
   "execution_count": null,
   "metadata": {
    "tags": [
     "hide"
    ]
   },
   "outputs": [],
   "source": [
    "# Calculate the mean of 'total_bill'\n",
    "print(df['total_bill'].mean())\n",
    "\n",
    "# Find the maximum tip\n",
    "print(df['tip'].max())"
   ]
  },
  {
   "cell_type": "markdown",
   "metadata": {},
   "source": [
    "### Exercise 1\n",
    "\n",
    "Print the following information, using the cell below for your code.\n",
    "\n",
    "* The revenue generated over the period.\n",
    "* How many customers visited over the period.\n",
    "* The average spend per customer."
   ]
  },
  {
   "cell_type": "code",
   "execution_count": null,
   "metadata": {},
   "outputs": [],
   "source": [
    "## YOUR CODE GOES HERE"
   ]
  },
  {
   "cell_type": "markdown",
   "metadata": {},
   "source": [
    "### Exercise 2\n",
    "\n",
    "Compare the *average* `tip` at Lunch and Dinner. Which meal time has the higher average tip? Use the cell below to show your work."
   ]
  },
  {
   "cell_type": "code",
   "execution_count": null,
   "metadata": {
    "tags": [
     "todo"
    ]
   },
   "outputs": [],
   "source": [
    "## YOUR CODE GOES HERE"
   ]
  }
 ],
 "metadata": {
  "kernelspec": {
   "display_name": "Python 3",
   "language": "python",
   "name": "python3"
  },
  "language_info": {
   "name": "python",
   "version": "3.x"
  }
 },
 "nbformat": 4,
 "nbformat_minor": 2
}
