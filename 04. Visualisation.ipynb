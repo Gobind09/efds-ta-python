{
 "cells": [
  {
   "attachments": {},
   "cell_type": "markdown",
   "metadata": {},
   "source": [
    "# Visualising Data\n",
    "\n",
    "In this notebook, we'll perform a visual analysis of a single stock. The matplotlib package is one of the most popular in Python for plotting. Let's first get our imports figured out first, since we have a good number of them now!"
   ]
  },
  {
   "cell_type": "code",
   "execution_count": null,
   "metadata": {},
   "outputs": [],
   "source": []
  },
  {
   "attachments": {},
   "cell_type": "markdown",
   "metadata": {},
   "source": [
    "Now we can load the dataset, from a file called `GME_WSB.csv`. This data covers a particularly exciting two-year period for GameStop, a chain of video game retail stores."
   ]
  },
  {
   "cell_type": "code",
   "execution_count": null,
   "metadata": {},
   "outputs": [],
   "source": [
    "df = pd.read_csv(\"https://raw.githubusercontent.com/ImperialCollegeLondon/efds-ta-python/refs/heads/main/data/GME_WSB.csv\")\n"
   ]
  },
  {
   "attachments": {},
   "cell_type": "markdown",
   "metadata": {},
   "source": [
    "Let's create our first simple plot. We'll use the `plot()` function to do this."
   ]
  },
  {
   "cell_type": "code",
   "execution_count": null,
   "metadata": {},
   "outputs": [],
   "source": []
  },
  {
   "attachments": {},
   "cell_type": "markdown",
   "metadata": {},
   "source": [
    "That was easy, but its not very readable, or attractive. Let's try again."
   ]
  },
  {
   "cell_type": "code",
   "execution_count": null,
   "metadata": {},
   "outputs": [],
   "source": []
  },
  {
   "attachments": {},
   "cell_type": "markdown",
   "metadata": {},
   "source": [
    "One of the most commonly plotted technical indicators is Bollinger Bands. They consist of two lines:\n",
    "\n",
    "- an upper band 2 standard deviations above the 20-day SMA\n",
    "- a lower band 2 standard deviations below the 20-day SMA\n",
    "\n",
    "When the bands are close, volatility is low. When they are far apart volatility is high. When the price is near the upper band the security may be overbought (ready for a decline), and when the price is near the lower band, the security may be oversold (ready for a jump)."
   ]
  },
  {
   "cell_type": "code",
   "execution_count": null,
   "metadata": {},
   "outputs": [],
   "source": [
    "# Adding these as features so the calculation of the Bollinger Bands is easier\n",
    "df['20-day SMA'] = df['Adj Close'].rolling(window=20).mean()\n",
    "df['Rolling Std'] = df['Adj Close'].rolling(window=20).std()\n",
    "\n",
    "# Using the above features to calculate the bands\n",
    "df['Bollinger High'] = df['20-day SMA'] + 2 * df['Rolling Std']\n",
    "df['Bollinger Low'] = df['20-day SMA']  - 2 * df['Rolling Std']"
   ]
  },
  {
   "cell_type": "code",
   "execution_count": null,
   "metadata": {},
   "outputs": [],
   "source": [
    "# Create the plot\n",
    "plt.figure(figsize=(10,5))\n",
    "plt.plot(df['Adj Close'], label='Adj Close')\n",
    "\n",
    "# You may see the SMA line plotted too\n",
    "#plt.plot(df[\"20-day SMA\"], label=\"20-day SMA\")\n",
    "\n",
    "plt.plot(df['Bollinger High'], label='Bollinger High', linestyle='--', color='grey')\n",
    "plt.plot(df['Bollinger Low'], label='Bollinger Low', linestyle='--', color='grey')\n",
    "\n",
    "# You can shade the area between the upper and lower bands for emphasis\n",
    "plt.fill_between(df.index, df['Bollinger High'], df['Bollinger Low'], color='grey', alpha=0.1)\n",
    "\n",
    "plt.title('Bollinger Bands')\n",
    "plt.xlabel('Date')\n",
    "plt.ylabel('Price')\n",
    "plt.legend()\n",
    "plt.show()"
   ]
  },
  {
   "attachments": {},
   "cell_type": "markdown",
   "metadata": {},
   "source": [
    "### Exercise: High Highs\n",
    "\n",
    "Earlier we looked at price surges (looking specifically for large *increases* in price). Alternatively, we may simply be interested in the highest prices reached during trading - irrespective of price the day before. Create a plot for `High` prices that helps visualise the highest `High` prices across the entire period.\n",
    "\n",
    "- Define a price threshold as two standard deviations from the mean High for the period.\n",
    "- Plot both the high price over the period as well as the price surge threshold line.\n",
    "- Give the plot a fitting title, labels and a legend."
   ]
  },
  {
   "cell_type": "code",
   "execution_count": null,
   "metadata": {},
   "outputs": [],
   "source": []
  },
  {
   "attachments": {},
   "cell_type": "markdown",
   "metadata": {},
   "source": [
    "## Other common plots\n",
    "\n",
    "Histograms show frequency distribution, or how often each value in the data occurs. They are a great way of visualising the distribution of returns in a financial data set. A histogram's tails (the sections that stretch away from the centre) offer one view of the risk of an asset. Heavy (tall) tails indicate extreme values, and long tails can indicate skew (positive skew when the tail is long to the right, and negative for long tails to the left).\n",
    "\n",
    "For a histogram centered around zero, a negatively skewed distribution of returns can suggest that very large losses may occur. A positively skewed distribution implies the opposite - that gains can occasionally be very large. "
   ]
  },
  {
   "cell_type": "code",
   "execution_count": null,
   "metadata": {},
   "outputs": [],
   "source": [
    "daily_returns = df[\"Adj Close\"].pct_change().dropna()\n",
    "\n",
    "# Square root choice - sqrt(number_of_samples)\n",
    "recommended_bins = int(np.sqrt(len(daily_returns)))\n",
    "\n",
    "plt.figure(figsize=(10, 5))\n",
    "plt.hist(daily_returns, bins=21)\n",
    "plt.title(\"Histogram of Daily Returns\")\n",
    "plt.ylabel(\"Frequency\")\n",
    "plt.xlabel(\"Simple Daily Returns\")\n",
    "plt.show()"
   ]
  },
  {
   "attachments": {},
   "cell_type": "markdown",
   "metadata": {},
   "source": [
    "Scatterplots can help us visualise the relationships between two variables. They are also excellent at visualising outliers."
   ]
  },
  {
   "cell_type": "code",
   "execution_count": null,
   "metadata": {},
   "outputs": [],
   "source": []
  },
  {
   "attachments": {},
   "cell_type": "markdown",
   "metadata": {},
   "source": [
    "## Subplots\n",
    "\n",
    "There are times when one plot just isn't enough. In this case we can create a subplot, and then plot on its axes. This generally calls for a different approach to Matplotlib, so watch carefully!"
   ]
  },
  {
   "cell_type": "code",
   "execution_count": null,
   "metadata": {},
   "outputs": [],
   "source": [
    "# Create a figure and a set of subplots\n",
    "fig, (ax1, ax2) = plt.subplots(nrows=2, figsize=(10,5), gridspec_kw={\"height_ratios\": [3, 1]})\n",
    "\n",
    "# Adjust the space between the two plots\n",
    "fig.subplots_adjust(hspace=0.3)\n",
    "\n",
    "# Plot the adjusted close prices on the first (top) subplot\n",
    "ax1.plot(df.index, df['Adj Close'], label='Adj Close')\n",
    "ax1.set_title('Adjusted Close Price and Volume')\n",
    "ax1.set_ylabel('Adjusted Close Price')\n",
    "\n",
    "# # Plot the volume on the second (bottom) subplot\n",
    "ax2.bar(df.index, df['Volume'], label='Volume', color='grey')\n",
    "ax2.set_ylabel('Volume')\n",
    "\n",
    "# Display the plot\n",
    "plt.show()\n"
   ]
  },
  {
   "cell_type": "markdown",
   "metadata": {},
   "source": [
    "### Matplotlib Interfaces\n",
    "\n",
    "Prior to our subplots example, you'll notice we used `plt` to do every part of our plotting. Developers often refer to this as using the **Pyplot interface** to Matplotlib. Matplotlib also exposes a so-called **object-oriented interface**, which can be seen in the subplots example above. Using this interface involves creating the figure and axes, and then using those objects to build our plot(s).\n",
    "\n",
    "Best practice suggests that developers should always use the object-oriented Matplotlib, even for the most basic plots."
   ]
  },
  {
   "cell_type": "markdown",
   "metadata": {},
   "source": [
    "### Advanced: Candlestick Plots\n",
    "\n",
    "If you have OHLC data, you can use `mplfinance`. It offers yet another interface to Matplotlib (in fact, it was once part of the Matplotlib package)."
   ]
  },
  {
   "cell_type": "code",
   "execution_count": null,
   "metadata": {},
   "outputs": [],
   "source": [
    "import mplfinance as mpf\n",
    "\n",
    "subset = df.loc[\"2021-01\":\"2021-02\"]\n",
    "mpf.plot(subset, type='candle')"
   ]
  }
 ],
 "metadata": {
  "kernelspec": {
   "display_name": ".venv",
   "language": "python",
   "name": "python3"
  },
  "language_info": {
   "codemirror_mode": {
    "name": "ipython",
    "version": 3
   },
   "file_extension": ".py",
   "mimetype": "text/x-python",
   "name": "python",
   "nbconvert_exporter": "python",
   "pygments_lexer": "ipython3",
   "version": "3.12.4"
  },
  "orig_nbformat": 4
 },
 "nbformat": 4,
 "nbformat_minor": 2
}
