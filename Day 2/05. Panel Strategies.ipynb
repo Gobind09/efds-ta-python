{
 "cells": [
  {
   "attachments": {},
   "cell_type": "markdown",
   "metadata": {},
   "source": [
    "# Strategies and Panel Data\n",
    "\n",
    "When working with panel data, we have two options.\n",
    "\n",
    "1. We can apply a strategy to all stocks in the panel data.\n",
    "\n",
    "1. We can subset a particular stock, effectively obtaining time series data for that single asset. From here we can use the same method we did in the previous notebook. This has the advantage of parameter optimisation, which we'll see at the end of this notebook.\n",
    "\n",
    "Let's start with the *one strategy for all stocks* approach, applying the SMA crossover strategy.\n",
    "\n",
    "First, imports and preparing the dataframe."
   ]
  },
  {
   "cell_type": "code",
   "execution_count": null,
   "metadata": {},
   "outputs": [],
   "source": [
    "import pandas as pd\n",
    "import numpy as np\n",
    "import matplotlib.pyplot as plt\n",
    "\n",
    "plt.style.use(\"ggplot\")"
   ]
  },
  {
   "cell_type": "code",
   "execution_count": null,
   "metadata": {},
   "outputs": [],
   "source": [
    "df = pd.read_csv(\"tech_six.csv\")\n",
    "df[\"datadate\"] = pd.to_datetime(df[\"datadate\"], dayfirst=True)"
   ]
  },
  {
   "attachments": {},
   "cell_type": "markdown",
   "metadata": {},
   "source": [
    "## Multiple Stocks\n",
    "\n",
    "Whenever we're going to be repeating an operation, it is usually a good idea (and sometimes necessary) to create our own function. Let's create a function to calculate SMAs and generate trading positions."
   ]
  },
  {
   "cell_type": "code",
   "execution_count": null,
   "metadata": {},
   "outputs": [],
   "source": []
  },
  {
   "cell_type": "markdown",
   "metadata": {},
   "source": [
    "With the function done, we can apply it groupwise to the stocks in our panel data."
   ]
  },
  {
   "cell_type": "code",
   "execution_count": null,
   "metadata": {},
   "outputs": [],
   "source": []
  },
  {
   "cell_type": "markdown",
   "metadata": {},
   "source": [
    "Then it's just a matter of calculating the cumulative returns as we've done before"
   ]
  },
  {
   "cell_type": "code",
   "execution_count": null,
   "metadata": {},
   "outputs": [],
   "source": [
    "# Calculate the market return and strategy return\n",
    "df[\"mktret\"] = df.groupby(\"tic\")[\"prccd\"].pct_change()\n",
    "df[\"stratret\"] = df[\"position\"] * df[\"mktret\"]\n",
    "\n",
    "# Calculate the cumulative market and strategy return\n",
    "df[\"cmktret\"] = (1 + df[\"mktret\"]).groupby(df[\"tic\"]).cumprod()\n",
    "df[\"cstratret\"] = (1 + df[\"stratret\"]).groupby(df[\"tic\"]).cumprod()\n",
    "\n",
    "df.groupby(\"tic\")[[\"cmktret\", \"cstratret\"]].last()"
   ]
  }
 ],
 "metadata": {
  "kernelspec": {
   "display_name": ".venv",
   "language": "python",
   "name": "python3"
  },
  "language_info": {
   "codemirror_mode": {
    "name": "ipython",
    "version": 3
   },
   "file_extension": ".py",
   "mimetype": "text/x-python",
   "name": "python",
   "nbconvert_exporter": "python",
   "pygments_lexer": "ipython3",
   "version": "3.9.6"
  }
 },
 "nbformat": 4,
 "nbformat_minor": 2
}
