{
 "cells": [
  {
   "attachments": {},
   "cell_type": "markdown",
   "metadata": {},
   "source": [
    "# Strategies and Panel Data\n",
    "\n",
    "When working with panel data, we have two options.\n",
    "\n",
    "1. We can apply a strategy to all stocks in the panel data.\n",
    "\n",
    "1. We can subset a particular stock, effectively obtaining time series data for that single asset. From here we can use the same method we did in the previous notebook. This has the advantage of parameter optimisation, which we'll see at the end of this notebook.\n",
    "\n",
    "Let's start with the *one strategy for all stocks* approach, applying the SMA crossover strategy.\n",
    "\n",
    "First, imports and preparing the dataframe."
   ]
  },
  {
   "cell_type": "code",
   "execution_count": null,
   "metadata": {
    "tags": [
     "hide"
    ]
   },
   "outputs": [],
   "source": [
    "import pandas as pd\n",
    "import numpy as np\n",
    "import matplotlib.pyplot as plt\n",
    "\n",
    "plt.style.use(\"ggplot\")"
   ]
  },
  {
   "cell_type": "code",
   "execution_count": null,
   "metadata": {
    "tags": [
     "hide"
    ]
   },
   "outputs": [],
   "source": [
    "df = pd.read_csv(\"tech_six.csv\")\n",
    "df[\"datadate\"] = pd.to_datetime(df[\"datadate\"], dayfirst=True)"
   ]
  },
  {
   "attachments": {},
   "cell_type": "markdown",
   "metadata": {},
   "source": [
    "## Multiple Stocks\n",
    "\n",
    "Whenever we're going to be repeating an operation, it is usually a good idea (and sometimes necessary) to create our own function. Let's create a function to calculate SMAs and generate trading positions."
   ]
  },
  {
   "cell_type": "code",
   "execution_count": null,
   "metadata": {
    "tags": [
     "hide"
    ]
   },
   "outputs": [],
   "source": [
    "\n",
    "def calculate_sma(df, short_window=50, long_window=200):\n",
    "    df[\"fastsma\"] = df[\"prccd\"].rolling(window=short_window).mean()\n",
    "    df[\"slowsma\"] = df[\"prccd\"].rolling(window=long_window).mean()\n",
    "\n",
    "    df[\"signal\"] = np.where(df[\"fastsma\"] > df[\"slowsma\"], 1, -1)\n",
    "    df[\"signal\"] = np.where(df[\"fastsma\"].isna(), 0, df[\"signal\"])\n",
    "\n",
    "    df[\"position\"] = df[\"signal\"].shift()\n",
    "    return df\n"
   ]
  },
  {
   "attachments": {},
   "cell_type": "markdown",
   "metadata": {},
   "source": [
    "With the function done, we can apply it groupwise to the stocks in our panel data."
   ]
  },
  {
   "cell_type": "code",
   "execution_count": null,
   "metadata": {},
   "outputs": [],
   "source": [
    "# Create a grouping, iterate through and apply our function, then concatenate\n",
    "grouped = df.groupby(\"tic\")\n",
    "\n",
    "groups = []\n",
    "for name, group in grouped:\n",
    "    groups.append(calculate_sma(group))\n",
    "\n",
    "df = pd.concat(groups)"
   ]
  },
  {
   "cell_type": "markdown",
   "metadata": {},
   "source": [
    "Then it's just a matter of calculating the cumulative returns as we've done before"
   ]
  },
  {
   "cell_type": "code",
   "execution_count": null,
   "metadata": {
    "tags": [
     "hide"
    ]
   },
   "outputs": [],
   "source": [
    "# Calculate the market return and strategy return\n",
    "df[\"mktret\"] = df.groupby(\"tic\")[\"prccd\"].pct_change()\n",
    "df[\"stratret\"] = df[\"position\"] * df[\"mktret\"]\n",
    "\n",
    "# Calculate the cumulative market and strategy return\n",
    "df[\"cmktret\"] = (1 + df[\"mktret\"]).groupby(df[\"tic\"]).cumprod()\n",
    "df[\"cstratret\"] = (1 + df[\"stratret\"]).groupby(df[\"tic\"]).cumprod()\n",
    "\n",
    "df.groupby(\"tic\")[[\"cmktret\", \"cstratret\"]].last()\n"
   ]
  }
 ],
 "metadata": {
  "kernelspec": {
   "display_name": ".venv",
   "language": "python",
   "name": "python3"
  },
  "language_info": {
   "codemirror_mode": {
    "name": "ipython",
    "version": 3
   },
   "file_extension": ".py",
   "mimetype": "text/x-python",
   "name": "python",
   "nbconvert_exporter": "python",
   "pygments_lexer": "ipython3",
   "version": "3.11.5"
  },
  "orig_nbformat": 4
 },
 "nbformat": 4,
 "nbformat_minor": 2
}
